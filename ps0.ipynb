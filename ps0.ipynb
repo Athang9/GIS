{
  "nbformat": 4,
  "nbformat_minor": 0,
  "metadata": {
    "colab": {
      "provenance": [],
      "collapsed_sections": [
        "zlGFpCKmLLDc",
        "NNLk9gKCLQjd",
        "-ZGMPN02La_s",
        "GK2OFipoOF-j",
        "RLiIRcdcLl-n",
        "DPgZoAFKfu1Z",
        "D52qb3zhf_wS",
        "Li76VYuv98en"
      ],
      "authorship_tag": "ABX9TyOl38s9pr4kvxejpzZSKmON",
      "include_colab_link": true
    },
    "kernelspec": {
      "name": "python3",
      "display_name": "Python 3"
    },
    "language_info": {
      "name": "python"
    }
  },
  "cells": [
    {
      "cell_type": "markdown",
      "metadata": {
        "id": "view-in-github",
        "colab_type": "text"
      },
      "source": [
        "<a href=\"https://colab.research.google.com/github/Athang9/GIS/blob/main/ps0.ipynb\" target=\"_parent\"><img src=\"https://colab.research.google.com/assets/colab-badge.svg\" alt=\"Open In Colab\"/></a>"
      ]
    },
    {
      "cell_type": "markdown",
      "source": [
        "#**Area of Intrest**:\n",
        "##Analyzing effects of Crime Rate, Literacy Rate, Income Rate on Public Safety"
      ],
      "metadata": {
        "id": "pT_oyVJ5gVXM"
      }
    },
    {
      "cell_type": "markdown",
      "source": [
        "# **Goal**\n",
        "I am planning to focusing on my research around Public Safety. I feel this aspect is much important and needs to be consider while traveling or living in a particular locality. I’m interested and curious to know how employement, income tax, active business locations, literacy, drug uses etc has affect on Public Safety (mostly security)."
      ],
      "metadata": {
        "id": "ileHDY8HG_ym"
      }
    },
    {
      "cell_type": "markdown",
      "source": [
        "#**Dataset Links**\n",
        "\n",
        "These data are in pdf format. I have converted PDF into Excel file using Python code.\n",
        "\n",
        "\n",
        "###1. New Jersey Shapefile: https://docs.google.com/uc?id=1xJDhcRCkgv7k4tNCa72Oog5bohV6dTB2&export=download\n",
        "\n",
        "###2. New Jersey Crime Rate: https://nj.gov/njsp/ucr/uniform-crime-reports.shtml\n",
        "\n",
        "###3. New Jersey Income Tax Collection: https://www.state.nj.us/treasury/taxation/soiintro.shtml\n"
      ],
      "metadata": {
        "id": "GKjJ54HJL14G"
      }
    },
    {
      "cell_type": "markdown",
      "source": [
        "#**Below code belongs to the Problem Statement 0**"
      ],
      "metadata": {
        "id": "ET2XMdGQIBJu"
      }
    },
    {
      "cell_type": "markdown",
      "source": [
        "##Importing modules"
      ],
      "metadata": {
        "id": "zlGFpCKmLLDc"
      }
    },
    {
      "cell_type": "code",
      "execution_count": 2,
      "metadata": {
        "id": "ci-tQ1ipo2fZ"
      },
      "outputs": [],
      "source": [
        "import os, zipfile\n",
        "import pandas as pd\n",
        "import matplotlib.pyplot as plt\n",
        "\n",
        "import geopandas as gpd\n",
        "\n",
        "#will display all output not just last command\n",
        "from IPython.core.interactiveshell import InteractiveShell\n",
        "InteractiveShell.ast_node_interactivity = \"all\"\n",
        "\n",
        "from google.colab import data_table\n",
        "data_table.enable_dataframe_formatter() #this enables spreadsheet view upon calling dataframe (without() )"
      ]
    },
    {
      "cell_type": "markdown",
      "source": [
        "##Importing map module for plotting map"
      ],
      "metadata": {
        "id": "NNLk9gKCLQjd"
      }
    },
    {
      "cell_type": "code",
      "source": [
        "!pip install mapclassify\n",
        "import mapclassify"
      ],
      "metadata": {
        "colab": {
          "base_uri": "https://localhost:8080/"
        },
        "id": "0qgW8HWro8o8",
        "outputId": "ac54f01c-0349-4265-9750-14a21e9016ea"
      },
      "execution_count": 3,
      "outputs": [
        {
          "output_type": "stream",
          "name": "stdout",
          "text": [
            "Collecting mapclassify\n",
            "  Downloading mapclassify-2.6.0-py3-none-any.whl (40 kB)\n",
            "\u001b[2K     \u001b[90m━━━━━━━━━━━━━━━━━━━━━━━━━━━━━━━━━━━━━━━\u001b[0m \u001b[32m40.8/40.8 kB\u001b[0m \u001b[31m932.3 kB/s\u001b[0m eta \u001b[36m0:00:00\u001b[0m\n",
            "\u001b[?25hRequirement already satisfied: scipy>=1.0 in /usr/local/lib/python3.10/dist-packages (from mapclassify) (1.11.2)\n",
            "Requirement already satisfied: numpy>=1.3 in /usr/local/lib/python3.10/dist-packages (from mapclassify) (1.23.5)\n",
            "Requirement already satisfied: scikit-learn in /usr/local/lib/python3.10/dist-packages (from mapclassify) (1.2.2)\n",
            "Requirement already satisfied: pandas>=1.0 in /usr/local/lib/python3.10/dist-packages (from mapclassify) (1.5.3)\n",
            "Requirement already satisfied: networkx in /usr/local/lib/python3.10/dist-packages (from mapclassify) (3.1)\n",
            "Requirement already satisfied: python-dateutil>=2.8.1 in /usr/local/lib/python3.10/dist-packages (from pandas>=1.0->mapclassify) (2.8.2)\n",
            "Requirement already satisfied: pytz>=2020.1 in /usr/local/lib/python3.10/dist-packages (from pandas>=1.0->mapclassify) (2023.3.post1)\n",
            "Requirement already satisfied: joblib>=1.1.1 in /usr/local/lib/python3.10/dist-packages (from scikit-learn->mapclassify) (1.3.2)\n",
            "Requirement already satisfied: threadpoolctl>=2.0.0 in /usr/local/lib/python3.10/dist-packages (from scikit-learn->mapclassify) (3.2.0)\n",
            "Requirement already satisfied: six>=1.5 in /usr/local/lib/python3.10/dist-packages (from python-dateutil>=2.8.1->pandas>=1.0->mapclassify) (1.16.0)\n",
            "Installing collected packages: mapclassify\n",
            "Successfully installed mapclassify-2.6.0\n"
          ]
        }
      ]
    },
    {
      "cell_type": "markdown",
      "source": [
        "How to find dataset effectively: say you are interested in NJ counties, so just google that geography + \"shapefile\", i.e., \"NJ counties shapefile\""
      ],
      "metadata": {
        "id": "qimwh_1mpD42"
      }
    },
    {
      "cell_type": "markdown",
      "source": [
        "##Importing shapefile from github and assigning to a variable"
      ],
      "metadata": {
        "id": "-ZGMPN02La_s"
      }
    },
    {
      "cell_type": "code",
      "source": [
        "#i found one and reposted on my website, download it onto colab:\n",
        "! wget -q -O bounds_nj_shp.zip https://github.com/Athang9/GIS/raw/main/bounds_nj_shp.zip\n",
        "\n",
        "zip_ref = zipfile.ZipFile('bounds_nj_shp.zip', 'r'); zip_ref.extractall(); zip_ref.close() #just unzipping\n",
        "njc=gpd.read_file('bounds_nj_shp.zip') #load the shapefile with gpd as njC"
      ],
      "metadata": {
        "id": "fbRUSCZCo9Kr"
      },
      "execution_count": 4,
      "outputs": []
    },
    {
      "cell_type": "markdown",
      "source": [
        "##Printing first 2 data from dataset"
      ],
      "metadata": {
        "id": "GK2OFipoOF-j"
      }
    },
    {
      "cell_type": "code",
      "source": [
        "njc.head(2)"
      ],
      "metadata": {
        "colab": {
          "base_uri": "https://localhost:8080/",
          "height": 317
        },
        "id": "7QiRla7GNVog",
        "outputId": "1f9a3330-7fe9-4e11-c4c8-26109dc983c3"
      },
      "execution_count": 5,
      "outputs": [
        {
          "output_type": "stream",
          "name": "stdout",
          "text": [
            "Warning: Total number of columns (21) exceeds max_columns (20). Falling back to pandas display.\n"
          ]
        },
        {
          "output_type": "execute_result",
          "data": {
            "text/plain": [
              "     COUNTY       COUNTY_LAB   CO           GNIS_NAME    GNIS FIPSSTCO FIPSCO  \\\n",
              "0  ATLANTIC  Atlantic County  ATL  County of Atlantic  882270    34001      1   \n",
              "1    BERGEN    Bergen County  BER    County of Bergen  882271    34003      3   \n",
              "\n",
              "           ACRES    SQ_MILES  POP2010  ...  POP1990  POP1980  POPDEN2010  \\\n",
              "0  390815.404215  610.649069   274549  ...   275372   204615         450   \n",
              "1  153490.275182  239.828555   905116  ...   829592   849843        3774   \n",
              "\n",
              "   POPDEN2000  POPDEN1990  POPDEN1980        REGION     Shape_Leng  \\\n",
              "0         414         451         335       COASTAL  650228.153906   \n",
              "1        3686        3459        3544  NORTHEASTERN  443326.122021   \n",
              "\n",
              "     Shape_Area                                           geometry  \n",
              "0  1.702385e+10  POLYGON ((443056.010 311529.770, 443068.440 31...  \n",
              "1  6.686010e+09  POLYGON ((656200.963 783614.366, 656141.127 78...  \n",
              "\n",
              "[2 rows x 21 columns]"
            ],
            "text/html": [
              "\n",
              "  <div id=\"df-9230b97c-2500-4ace-8507-1dfa66acbfc0\" class=\"colab-df-container\">\n",
              "    <div>\n",
              "<style scoped>\n",
              "    .dataframe tbody tr th:only-of-type {\n",
              "        vertical-align: middle;\n",
              "    }\n",
              "\n",
              "    .dataframe tbody tr th {\n",
              "        vertical-align: top;\n",
              "    }\n",
              "\n",
              "    .dataframe thead th {\n",
              "        text-align: right;\n",
              "    }\n",
              "</style>\n",
              "<table border=\"1\" class=\"dataframe\">\n",
              "  <thead>\n",
              "    <tr style=\"text-align: right;\">\n",
              "      <th></th>\n",
              "      <th>COUNTY</th>\n",
              "      <th>COUNTY_LAB</th>\n",
              "      <th>CO</th>\n",
              "      <th>GNIS_NAME</th>\n",
              "      <th>GNIS</th>\n",
              "      <th>FIPSSTCO</th>\n",
              "      <th>FIPSCO</th>\n",
              "      <th>ACRES</th>\n",
              "      <th>SQ_MILES</th>\n",
              "      <th>POP2010</th>\n",
              "      <th>...</th>\n",
              "      <th>POP1990</th>\n",
              "      <th>POP1980</th>\n",
              "      <th>POPDEN2010</th>\n",
              "      <th>POPDEN2000</th>\n",
              "      <th>POPDEN1990</th>\n",
              "      <th>POPDEN1980</th>\n",
              "      <th>REGION</th>\n",
              "      <th>Shape_Leng</th>\n",
              "      <th>Shape_Area</th>\n",
              "      <th>geometry</th>\n",
              "    </tr>\n",
              "  </thead>\n",
              "  <tbody>\n",
              "    <tr>\n",
              "      <th>0</th>\n",
              "      <td>ATLANTIC</td>\n",
              "      <td>Atlantic County</td>\n",
              "      <td>ATL</td>\n",
              "      <td>County of Atlantic</td>\n",
              "      <td>882270</td>\n",
              "      <td>34001</td>\n",
              "      <td>1</td>\n",
              "      <td>390815.404215</td>\n",
              "      <td>610.649069</td>\n",
              "      <td>274549</td>\n",
              "      <td>...</td>\n",
              "      <td>275372</td>\n",
              "      <td>204615</td>\n",
              "      <td>450</td>\n",
              "      <td>414</td>\n",
              "      <td>451</td>\n",
              "      <td>335</td>\n",
              "      <td>COASTAL</td>\n",
              "      <td>650228.153906</td>\n",
              "      <td>1.702385e+10</td>\n",
              "      <td>POLYGON ((443056.010 311529.770, 443068.440 31...</td>\n",
              "    </tr>\n",
              "    <tr>\n",
              "      <th>1</th>\n",
              "      <td>BERGEN</td>\n",
              "      <td>Bergen County</td>\n",
              "      <td>BER</td>\n",
              "      <td>County of Bergen</td>\n",
              "      <td>882271</td>\n",
              "      <td>34003</td>\n",
              "      <td>3</td>\n",
              "      <td>153490.275182</td>\n",
              "      <td>239.828555</td>\n",
              "      <td>905116</td>\n",
              "      <td>...</td>\n",
              "      <td>829592</td>\n",
              "      <td>849843</td>\n",
              "      <td>3774</td>\n",
              "      <td>3686</td>\n",
              "      <td>3459</td>\n",
              "      <td>3544</td>\n",
              "      <td>NORTHEASTERN</td>\n",
              "      <td>443326.122021</td>\n",
              "      <td>6.686010e+09</td>\n",
              "      <td>POLYGON ((656200.963 783614.366, 656141.127 78...</td>\n",
              "    </tr>\n",
              "  </tbody>\n",
              "</table>\n",
              "<p>2 rows × 21 columns</p>\n",
              "</div>\n",
              "    <div class=\"colab-df-buttons\">\n",
              "\n",
              "  <div class=\"colab-df-container\">\n",
              "    <button class=\"colab-df-convert\" onclick=\"convertToInteractive('df-9230b97c-2500-4ace-8507-1dfa66acbfc0')\"\n",
              "            title=\"Convert this dataframe to an interactive table.\"\n",
              "            style=\"display:none;\">\n",
              "\n",
              "  <svg xmlns=\"http://www.w3.org/2000/svg\" height=\"24px\" viewBox=\"0 -960 960 960\">\n",
              "    <path d=\"M120-120v-720h720v720H120Zm60-500h600v-160H180v160Zm220 220h160v-160H400v160Zm0 220h160v-160H400v160ZM180-400h160v-160H180v160Zm440 0h160v-160H620v160ZM180-180h160v-160H180v160Zm440 0h160v-160H620v160Z\"/>\n",
              "  </svg>\n",
              "    </button>\n",
              "\n",
              "  <style>\n",
              "    .colab-df-container {\n",
              "      display:flex;\n",
              "      gap: 12px;\n",
              "    }\n",
              "\n",
              "    .colab-df-convert {\n",
              "      background-color: #E8F0FE;\n",
              "      border: none;\n",
              "      border-radius: 50%;\n",
              "      cursor: pointer;\n",
              "      display: none;\n",
              "      fill: #1967D2;\n",
              "      height: 32px;\n",
              "      padding: 0 0 0 0;\n",
              "      width: 32px;\n",
              "    }\n",
              "\n",
              "    .colab-df-convert:hover {\n",
              "      background-color: #E2EBFA;\n",
              "      box-shadow: 0px 1px 2px rgba(60, 64, 67, 0.3), 0px 1px 3px 1px rgba(60, 64, 67, 0.15);\n",
              "      fill: #174EA6;\n",
              "    }\n",
              "\n",
              "    .colab-df-buttons div {\n",
              "      margin-bottom: 4px;\n",
              "    }\n",
              "\n",
              "    [theme=dark] .colab-df-convert {\n",
              "      background-color: #3B4455;\n",
              "      fill: #D2E3FC;\n",
              "    }\n",
              "\n",
              "    [theme=dark] .colab-df-convert:hover {\n",
              "      background-color: #434B5C;\n",
              "      box-shadow: 0px 1px 3px 1px rgba(0, 0, 0, 0.15);\n",
              "      filter: drop-shadow(0px 1px 2px rgba(0, 0, 0, 0.3));\n",
              "      fill: #FFFFFF;\n",
              "    }\n",
              "  </style>\n",
              "\n",
              "    <script>\n",
              "      const buttonEl =\n",
              "        document.querySelector('#df-9230b97c-2500-4ace-8507-1dfa66acbfc0 button.colab-df-convert');\n",
              "      buttonEl.style.display =\n",
              "        google.colab.kernel.accessAllowed ? 'block' : 'none';\n",
              "\n",
              "      async function convertToInteractive(key) {\n",
              "        const element = document.querySelector('#df-9230b97c-2500-4ace-8507-1dfa66acbfc0');\n",
              "        const dataTable =\n",
              "          await google.colab.kernel.invokeFunction('convertToInteractive',\n",
              "                                                    [key], {});\n",
              "        if (!dataTable) return;\n",
              "\n",
              "        const docLinkHtml = 'Like what you see? Visit the ' +\n",
              "          '<a target=\"_blank\" href=https://colab.research.google.com/notebooks/data_table.ipynb>data table notebook</a>'\n",
              "          + ' to learn more about interactive tables.';\n",
              "        element.innerHTML = '';\n",
              "        dataTable['output_type'] = 'display_data';\n",
              "        await google.colab.output.renderOutput(dataTable, element);\n",
              "        const docLink = document.createElement('div');\n",
              "        docLink.innerHTML = docLinkHtml;\n",
              "        element.appendChild(docLink);\n",
              "      }\n",
              "    </script>\n",
              "  </div>\n",
              "\n",
              "\n",
              "<div id=\"df-c9326679-c813-4408-92f1-5689fe3d5585\">\n",
              "  <button class=\"colab-df-quickchart\" onclick=\"quickchart('df-c9326679-c813-4408-92f1-5689fe3d5585')\"\n",
              "            title=\"Suggest charts.\"\n",
              "            style=\"display:none;\">\n",
              "\n",
              "<svg xmlns=\"http://www.w3.org/2000/svg\" height=\"24px\"viewBox=\"0 0 24 24\"\n",
              "     width=\"24px\">\n",
              "    <g>\n",
              "        <path d=\"M19 3H5c-1.1 0-2 .9-2 2v14c0 1.1.9 2 2 2h14c1.1 0 2-.9 2-2V5c0-1.1-.9-2-2-2zM9 17H7v-7h2v7zm4 0h-2V7h2v10zm4 0h-2v-4h2v4z\"/>\n",
              "    </g>\n",
              "</svg>\n",
              "  </button>\n",
              "\n",
              "<style>\n",
              "  .colab-df-quickchart {\n",
              "      --bg-color: #E8F0FE;\n",
              "      --fill-color: #1967D2;\n",
              "      --hover-bg-color: #E2EBFA;\n",
              "      --hover-fill-color: #174EA6;\n",
              "      --disabled-fill-color: #AAA;\n",
              "      --disabled-bg-color: #DDD;\n",
              "  }\n",
              "\n",
              "  [theme=dark] .colab-df-quickchart {\n",
              "      --bg-color: #3B4455;\n",
              "      --fill-color: #D2E3FC;\n",
              "      --hover-bg-color: #434B5C;\n",
              "      --hover-fill-color: #FFFFFF;\n",
              "      --disabled-bg-color: #3B4455;\n",
              "      --disabled-fill-color: #666;\n",
              "  }\n",
              "\n",
              "  .colab-df-quickchart {\n",
              "    background-color: var(--bg-color);\n",
              "    border: none;\n",
              "    border-radius: 50%;\n",
              "    cursor: pointer;\n",
              "    display: none;\n",
              "    fill: var(--fill-color);\n",
              "    height: 32px;\n",
              "    padding: 0;\n",
              "    width: 32px;\n",
              "  }\n",
              "\n",
              "  .colab-df-quickchart:hover {\n",
              "    background-color: var(--hover-bg-color);\n",
              "    box-shadow: 0 1px 2px rgba(60, 64, 67, 0.3), 0 1px 3px 1px rgba(60, 64, 67, 0.15);\n",
              "    fill: var(--button-hover-fill-color);\n",
              "  }\n",
              "\n",
              "  .colab-df-quickchart-complete:disabled,\n",
              "  .colab-df-quickchart-complete:disabled:hover {\n",
              "    background-color: var(--disabled-bg-color);\n",
              "    fill: var(--disabled-fill-color);\n",
              "    box-shadow: none;\n",
              "  }\n",
              "\n",
              "  .colab-df-spinner {\n",
              "    border: 2px solid var(--fill-color);\n",
              "    border-color: transparent;\n",
              "    border-bottom-color: var(--fill-color);\n",
              "    animation:\n",
              "      spin 1s steps(1) infinite;\n",
              "  }\n",
              "\n",
              "  @keyframes spin {\n",
              "    0% {\n",
              "      border-color: transparent;\n",
              "      border-bottom-color: var(--fill-color);\n",
              "      border-left-color: var(--fill-color);\n",
              "    }\n",
              "    20% {\n",
              "      border-color: transparent;\n",
              "      border-left-color: var(--fill-color);\n",
              "      border-top-color: var(--fill-color);\n",
              "    }\n",
              "    30% {\n",
              "      border-color: transparent;\n",
              "      border-left-color: var(--fill-color);\n",
              "      border-top-color: var(--fill-color);\n",
              "      border-right-color: var(--fill-color);\n",
              "    }\n",
              "    40% {\n",
              "      border-color: transparent;\n",
              "      border-right-color: var(--fill-color);\n",
              "      border-top-color: var(--fill-color);\n",
              "    }\n",
              "    60% {\n",
              "      border-color: transparent;\n",
              "      border-right-color: var(--fill-color);\n",
              "    }\n",
              "    80% {\n",
              "      border-color: transparent;\n",
              "      border-right-color: var(--fill-color);\n",
              "      border-bottom-color: var(--fill-color);\n",
              "    }\n",
              "    90% {\n",
              "      border-color: transparent;\n",
              "      border-bottom-color: var(--fill-color);\n",
              "    }\n",
              "  }\n",
              "</style>\n",
              "\n",
              "  <script>\n",
              "    async function quickchart(key) {\n",
              "      const quickchartButtonEl =\n",
              "        document.querySelector('#' + key + ' button');\n",
              "      quickchartButtonEl.disabled = true;  // To prevent multiple clicks.\n",
              "      quickchartButtonEl.classList.add('colab-df-spinner');\n",
              "      try {\n",
              "        const charts = await google.colab.kernel.invokeFunction(\n",
              "            'suggestCharts', [key], {});\n",
              "      } catch (error) {\n",
              "        console.error('Error during call to suggestCharts:', error);\n",
              "      }\n",
              "      quickchartButtonEl.classList.remove('colab-df-spinner');\n",
              "      quickchartButtonEl.classList.add('colab-df-quickchart-complete');\n",
              "    }\n",
              "    (() => {\n",
              "      let quickchartButtonEl =\n",
              "        document.querySelector('#df-c9326679-c813-4408-92f1-5689fe3d5585 button');\n",
              "      quickchartButtonEl.style.display =\n",
              "        google.colab.kernel.accessAllowed ? 'block' : 'none';\n",
              "    })();\n",
              "  </script>\n",
              "</div>\n",
              "    </div>\n",
              "  </div>\n"
            ]
          },
          "metadata": {},
          "execution_count": 5
        }
      ]
    },
    {
      "cell_type": "markdown",
      "source": [
        "##Plotting map using a shapefile"
      ],
      "metadata": {
        "id": "RLiIRcdcLl-n"
      }
    },
    {
      "cell_type": "code",
      "source": [
        "#make the map\n",
        "njc.plot()  #plot function will help to plot the map of new jersey"
      ],
      "metadata": {
        "colab": {
          "base_uri": "https://localhost:8080/",
          "height": 447
        },
        "id": "JN_qrzLUpEx_",
        "outputId": "3abc70fc-efcd-44be-d479-73172d0c9aef"
      },
      "execution_count": 6,
      "outputs": [
        {
          "output_type": "execute_result",
          "data": {
            "text/plain": [
              "<Axes: >"
            ]
          },
          "metadata": {},
          "execution_count": 6
        },
        {
          "output_type": "display_data",
          "data": {
            "text/plain": [
              "<Figure size 640x480 with 1 Axes>"
            ],
            "image/png": "[encoded data removed]"
          },
          "metadata": {}
        }
      ]
    },
    {
      "cell_type": "markdown",
      "source": [
        "#Plotting Population Density of New Jersey"
      ],
      "metadata": {
        "id": "DPgZoAFKfu1Z"
      }
    },
    {
      "cell_type": "code",
      "source": [
        "njc.plot(figsize=(8,10),column='POP2010',legend=True,cmap='YlOrRd',scheme='natural_breaks',k=5,\n",
        "         edgecolor='grey',linewidth=0.5,legend_kwds= {\"fmt\": \"{:,.0f}\"})"
      ],
      "metadata": {
        "colab": {
          "base_uri": "https://localhost:8080/",
          "height": 847
        },
        "id": "zQgC0iALfCM2",
        "outputId": "c951daa2-f0ff-4044-fcc0-df2d851d031c"
      },
      "execution_count": 12,
      "outputs": [
        {
          "output_type": "execute_result",
          "data": {
            "text/plain": [
              "<Axes: >"
            ]
          },
          "metadata": {},
          "execution_count": 12
        },
        {
          "output_type": "display_data",
          "data": {
            "text/plain": [
              "<Figure size 800x1000 with 1 Axes>"
            ],
            "image/png": "[encoded data removed]"
          },
          "metadata": {}
        }
      ]
    },
    {
      "cell_type": "markdown",
      "source": [
        "#Checking variables inside dataset"
      ],
      "metadata": {
        "id": "D52qb3zhf_wS"
      }
    },
    {
      "cell_type": "code",
      "source": [
        "njc.dtypes"
      ],
      "metadata": {
        "colab": {
          "base_uri": "https://localhost:8080/"
        },
        "id": "0W1bRPxFfljd",
        "outputId": "ad64ebcb-dafb-4484-9ca1-c73723d30923"
      },
      "execution_count": 13,
      "outputs": [
        {
          "output_type": "execute_result",
          "data": {
            "text/plain": [
              "COUNTY          object\n",
              "COUNTY_LAB      object\n",
              "CO              object\n",
              "GNIS_NAME       object\n",
              "GNIS            object\n",
              "FIPSSTCO        object\n",
              "FIPSCO          object\n",
              "ACRES          float64\n",
              "SQ_MILES       float64\n",
              "POP2010          int64\n",
              "POP2000          int64\n",
              "POP1990          int64\n",
              "POP1980          int64\n",
              "POPDEN2010       int64\n",
              "POPDEN2000       int64\n",
              "POPDEN1990       int64\n",
              "POPDEN1980       int64\n",
              "REGION          object\n",
              "Shape_Leng     float64\n",
              "Shape_Area     float64\n",
              "geometry      geometry\n",
              "dtype: object"
            ]
          },
          "metadata": {},
          "execution_count": 13
        }
      ]
    },
    {
      "cell_type": "markdown",
      "source": [
        "##Checking directories"
      ],
      "metadata": {
        "id": "lhefm0TWLonr"
      }
    },
    {
      "cell_type": "code",
      "source": [
        "!ls"
      ],
      "metadata": {
        "colab": {
          "base_uri": "https://localhost:8080/"
        },
        "id": "JA9rc6iX8MNC",
        "outputId": "5b1b777a-dec4-4ace-9923-ea0575ae1715"
      },
      "execution_count": 14,
      "outputs": [
        {
          "output_type": "stream",
          "name": "stdout",
          "text": [
            "bounds_nj_shp.zip     nj_counties.shp.xml  nj_munis.shp       nj_state.sbx\n",
            "nj_counties.cpg       nj_counties.shx\t   nj_munis.shp.xml   nj_state.shp\n",
            "nj_counties.dbf       nj_munis.cpg\t   nj_munis.shx       nj_state.shp.xml\n",
            "nj_counties_fgdc.xml  nj_munis.dbf\t   nj_state.cpg       nj_state.shx\n",
            "nj_counties.prj       nj_munis_fgdc.xml    nj_state.dbf       sample_data\n",
            "nj_counties.sbn       nj_munis.prj\t   nj_state_fgdc.xml\n",
            "nj_counties.sbx       nj_munis.sbn\t   nj_state.prj\n",
            "nj_counties.shp       nj_munis.sbx\t   nj_state.sbn\n"
          ]
        }
      ]
    },
    {
      "cell_type": "markdown",
      "source": [
        "##Checking data distribution"
      ],
      "metadata": {
        "id": "9GVJU8f9Lswg"
      }
    },
    {
      "cell_type": "code",
      "source": [
        "njc.describe()"
      ],
      "metadata": {
        "colab": {
          "base_uri": "https://localhost:8080/",
          "height": 309
        },
        "id": "eGMMfWjs8VZ7",
        "outputId": "a03e1de5-41c7-4055-b9aa-29ae5edc8dd3"
      },
      "execution_count": 15,
      "outputs": [
        {
          "output_type": "execute_result",
          "data": {
            "text/plain": [
              "               ACRES    SQ_MILES        POP2010        POP2000        POP1990  \\\n",
              "count      21.000000   21.000000      21.000000      21.000000      21.000000   \n",
              "mean   236668.445624  369.794446  418661.619048  400683.333333  375651.619048   \n",
              "std    129423.458908  202.224155  252391.802799  245685.165612  232024.704159   \n",
              "min     32982.400794   51.535001   66083.000000   64285.000000   65294.000000   \n",
              "25%    146431.864374  228.799788  156898.000000  146438.000000  138991.000000   \n",
              "50%    215166.893094  336.198271  448734.000000  423394.000000  395066.000000   \n",
              "75%    310834.264884  485.678539  576567.000000  522541.000000  532498.000000   \n",
              "max    525002.683590  820.316693  905116.000000  884118.000000  829592.000000   \n",
              "\n",
              "             POP1980    POPDEN2010    POPDEN2000    POPDEN1990    POPDEN1980  \\\n",
              "count      21.000000     21.000000     21.000000     21.000000     21.000000   \n",
              "mean   356042.238095   2089.095238   2020.476190   1883.142857   1866.952381   \n",
              "std    241526.155270   2857.463699   2774.989597   2548.549632   2651.426455   \n",
              "min     64676.000000    190.000000    185.000000    188.000000    186.000000   \n",
              "25%    132866.000000    340.000000    358.000000    332.000000    288.000000   \n",
              "50%    356502.000000   1023.000000    976.000000    788.000000    666.000000   \n",
              "75%    504094.000000   2527.000000   2367.000000   2284.000000   2073.000000   \n",
              "max    850451.000000  12309.000000  11817.000000  10733.000000  10808.000000   \n",
              "\n",
              "          Shape_Leng    Shape_Area  \n",
              "count      21.000000  2.100000e+01  \n",
              "mean   559159.328973  1.030924e+10  \n",
              "std    133171.141166  5.637663e+09  \n",
              "min    321814.398490  1.436708e+09  \n",
              "25%    492851.319687  6.378546e+09  \n",
              "50%    541587.507240  9.372632e+09  \n",
              "75%    664545.338596  1.353989e+10  \n",
              "max    788906.717476  2.286903e+10  "
            ],
            "text/html": [
              "\n",
              "  <div id=\"df-80ece0dd-5103-4eae-b28f-31a09e7daefb\" class=\"colab-df-container\">\n",
              "    <div>\n",
              "<style scoped>\n",
              "    .dataframe tbody tr th:only-of-type {\n",
              "        vertical-align: middle;\n",
              "    }\n",
              "\n",
              "    .dataframe tbody tr th {\n",
              "        vertical-align: top;\n",
              "    }\n",
              "\n",
              "    .dataframe thead th {\n",
              "        text-align: right;\n",
              "    }\n",
              "</style>\n",
              "<table border=\"1\" class=\"dataframe\">\n",
              "  <thead>\n",
              "    <tr style=\"text-align: right;\">\n",
              "      <th></th>\n",
              "      <th>ACRES</th>\n",
              "      <th>SQ_MILES</th>\n",
              "      <th>POP2010</th>\n",
              "      <th>POP2000</th>\n",
              "      <th>POP1990</th>\n",
              "      <th>POP1980</th>\n",
              "      <th>POPDEN2010</th>\n",
              "      <th>POPDEN2000</th>\n",
              "      <th>POPDEN1990</th>\n",
              "      <th>POPDEN1980</th>\n",
              "      <th>Shape_Leng</th>\n",
              "      <th>Shape_Area</th>\n",
              "    </tr>\n",
              "  </thead>\n",
              "  <tbody>\n",
              "    <tr>\n",
              "      <th>count</th>\n",
              "      <td>21.000000</td>\n",
              "      <td>21.000000</td>\n",
              "      <td>21.000000</td>\n",
              "      <td>21.000000</td>\n",
              "      <td>21.000000</td>\n",
              "      <td>21.000000</td>\n",
              "      <td>21.000000</td>\n",
              "      <td>21.000000</td>\n",
              "      <td>21.000000</td>\n",
              "      <td>21.000000</td>\n",
              "      <td>21.000000</td>\n",
              "      <td>2.100000e+01</td>\n",
              "    </tr>\n",
              "    <tr>\n",
              "      <th>mean</th>\n",
              "      <td>236668.445624</td>\n",
              "      <td>369.794446</td>\n",
              "      <td>418661.619048</td>\n",
              "      <td>400683.333333</td>\n",
              "      <td>375651.619048</td>\n",
              "      <td>356042.238095</td>\n",
              "      <td>2089.095238</td>\n",
              "      <td>2020.476190</td>\n",
              "      <td>1883.142857</td>\n",
              "      <td>1866.952381</td>\n",
              "      <td>559159.328973</td>\n",
              "      <td>1.030924e+10</td>\n",
              "    </tr>\n",
              "    <tr>\n",
              "      <th>std</th>\n",
              "      <td>129423.458908</td>\n",
              "      <td>202.224155</td>\n",
              "      <td>252391.802799</td>\n",
              "      <td>245685.165612</td>\n",
              "      <td>232024.704159</td>\n",
              "      <td>241526.155270</td>\n",
              "      <td>2857.463699</td>\n",
              "      <td>2774.989597</td>\n",
              "      <td>2548.549632</td>\n",
              "      <td>2651.426455</td>\n",
              "      <td>133171.141166</td>\n",
              "      <td>5.637663e+09</td>\n",
              "    </tr>\n",
              "    <tr>\n",
              "      <th>min</th>\n",
              "      <td>32982.400794</td>\n",
              "      <td>51.535001</td>\n",
              "      <td>66083.000000</td>\n",
              "      <td>64285.000000</td>\n",
              "      <td>65294.000000</td>\n",
              "      <td>64676.000000</td>\n",
              "      <td>190.000000</td>\n",
              "      <td>185.000000</td>\n",
              "      <td>188.000000</td>\n",
              "      <td>186.000000</td>\n",
              "      <td>321814.398490</td>\n",
              "      <td>1.436708e+09</td>\n",
              "    </tr>\n",
              "    <tr>\n",
              "      <th>25%</th>\n",
              "      <td>146431.864374</td>\n",
              "      <td>228.799788</td>\n",
              "      <td>156898.000000</td>\n",
              "      <td>146438.000000</td>\n",
              "      <td>138991.000000</td>\n",
              "      <td>132866.000000</td>\n",
              "      <td>340.000000</td>\n",
              "      <td>358.000000</td>\n",
              "      <td>332.000000</td>\n",
              "      <td>288.000000</td>\n",
              "      <td>492851.319687</td>\n",
              "      <td>6.378546e+09</td>\n",
              "    </tr>\n",
              "    <tr>\n",
              "      <th>50%</th>\n",
              "      <td>215166.893094</td>\n",
              "      <td>336.198271</td>\n",
              "      <td>448734.000000</td>\n",
              "      <td>423394.000000</td>\n",
              "      <td>395066.000000</td>\n",
              "      <td>356502.000000</td>\n",
              "      <td>1023.000000</td>\n",
              "      <td>976.000000</td>\n",
              "      <td>788.000000</td>\n",
              "      <td>666.000000</td>\n",
              "      <td>541587.507240</td>\n",
              "      <td>9.372632e+09</td>\n",
              "    </tr>\n",
              "    <tr>\n",
              "      <th>75%</th>\n",
              "      <td>310834.264884</td>\n",
              "      <td>485.678539</td>\n",
              "      <td>576567.000000</td>\n",
              "      <td>522541.000000</td>\n",
              "      <td>532498.000000</td>\n",
              "      <td>504094.000000</td>\n",
              "      <td>2527.000000</td>\n",
              "      <td>2367.000000</td>\n",
              "      <td>2284.000000</td>\n",
              "      <td>2073.000000</td>\n",
              "      <td>664545.338596</td>\n",
              "      <td>1.353989e+10</td>\n",
              "    </tr>\n",
              "    <tr>\n",
              "      <th>max</th>\n",
              "      <td>525002.683590</td>\n",
              "      <td>820.316693</td>\n",
              "      <td>905116.000000</td>\n",
              "      <td>884118.000000</td>\n",
              "      <td>829592.000000</td>\n",
              "      <td>850451.000000</td>\n",
              "      <td>12309.000000</td>\n",
              "      <td>11817.000000</td>\n",
              "      <td>10733.000000</td>\n",
              "      <td>10808.000000</td>\n",
              "      <td>788906.717476</td>\n",
              "      <td>2.286903e+10</td>\n",
              "    </tr>\n",
              "  </tbody>\n",
              "</table>\n",
              "</div>\n",
              "    <div class=\"colab-df-buttons\">\n",
              "\n",
              "  <div class=\"colab-df-container\">\n",
              "    <button class=\"colab-df-convert\" onclick=\"convertToInteractive('df-80ece0dd-5103-4eae-b28f-31a09e7daefb')\"\n",
              "            title=\"Convert this dataframe to an interactive table.\"\n",
              "            style=\"display:none;\">\n",
              "\n",
              "  <svg xmlns=\"http://www.w3.org/2000/svg\" height=\"24px\" viewBox=\"0 -960 960 960\">\n",
              "    <path d=\"M120-120v-720h720v720H120Zm60-500h600v-160H180v160Zm220 220h160v-160H400v160Zm0 220h160v-160H400v160ZM180-400h160v-160H180v160Zm440 0h160v-160H620v160ZM180-180h160v-160H180v160Zm440 0h160v-160H620v160Z\"/>\n",
              "  </svg>\n",
              "    </button>\n",
              "\n",
              "  <style>\n",
              "    .colab-df-container {\n",
              "      display:flex;\n",
              "      gap: 12px;\n",
              "    }\n",
              "\n",
              "    .colab-df-convert {\n",
              "      background-color: #E8F0FE;\n",
              "      border: none;\n",
              "      border-radius: 50%;\n",
              "      cursor: pointer;\n",
              "      display: none;\n",
              "      fill: #1967D2;\n",
              "      height: 32px;\n",
              "      padding: 0 0 0 0;\n",
              "      width: 32px;\n",
              "    }\n",
              "\n",
              "    .colab-df-convert:hover {\n",
              "      background-color: #E2EBFA;\n",
              "      box-shadow: 0px 1px 2px rgba(60, 64, 67, 0.3), 0px 1px 3px 1px rgba(60, 64, 67, 0.15);\n",
              "      fill: #174EA6;\n",
              "    }\n",
              "\n",
              "    .colab-df-buttons div {\n",
              "      margin-bottom: 4px;\n",
              "    }\n",
              "\n",
              "    [theme=dark] .colab-df-convert {\n",
              "      background-color: #3B4455;\n",
              "      fill: #D2E3FC;\n",
              "    }\n",
              "\n",
              "    [theme=dark] .colab-df-convert:hover {\n",
              "      background-color: #434B5C;\n",
              "      box-shadow: 0px 1px 3px 1px rgba(0, 0, 0, 0.15);\n",
              "      filter: drop-shadow(0px 1px 2px rgba(0, 0, 0, 0.3));\n",
              "      fill: #FFFFFF;\n",
              "    }\n",
              "  </style>\n",
              "\n",
              "    <script>\n",
              "      const buttonEl =\n",
              "        document.querySelector('#df-80ece0dd-5103-4eae-b28f-31a09e7daefb button.colab-df-convert');\n",
              "      buttonEl.style.display =\n",
              "        google.colab.kernel.accessAllowed ? 'block' : 'none';\n",
              "\n",
              "      async function convertToInteractive(key) {\n",
              "        const element = document.querySelector('#df-80ece0dd-5103-4eae-b28f-31a09e7daefb');\n",
              "        const dataTable =\n",
              "          await google.colab.kernel.invokeFunction('convertToInteractive',\n",
              "                                                    [key], {});\n",
              "        if (!dataTable) return;\n",
              "\n",
              "        const docLinkHtml = 'Like what you see? Visit the ' +\n",
              "          '<a target=\"_blank\" href=https://colab.research.google.com/notebooks/data_table.ipynb>data table notebook</a>'\n",
              "          + ' to learn more about interactive tables.';\n",
              "        element.innerHTML = '';\n",
              "        dataTable['output_type'] = 'display_data';\n",
              "        await google.colab.output.renderOutput(dataTable, element);\n",
              "        const docLink = document.createElement('div');\n",
              "        docLink.innerHTML = docLinkHtml;\n",
              "        element.appendChild(docLink);\n",
              "      }\n",
              "    </script>\n",
              "  </div>\n",
              "\n",
              "\n",
              "<div id=\"df-7bfc96ae-e6ae-4563-b985-201f322bb5bc\">\n",
              "  <button class=\"colab-df-quickchart\" onclick=\"quickchart('df-7bfc96ae-e6ae-4563-b985-201f322bb5bc')\"\n",
              "            title=\"Suggest charts.\"\n",
              "            style=\"display:none;\">\n",
              "\n",
              "<svg xmlns=\"http://www.w3.org/2000/svg\" height=\"24px\"viewBox=\"0 0 24 24\"\n",
              "     width=\"24px\">\n",
              "    <g>\n",
              "        <path d=\"M19 3H5c-1.1 0-2 .9-2 2v14c0 1.1.9 2 2 2h14c1.1 0 2-.9 2-2V5c0-1.1-.9-2-2-2zM9 17H7v-7h2v7zm4 0h-2V7h2v10zm4 0h-2v-4h2v4z\"/>\n",
              "    </g>\n",
              "</svg>\n",
              "  </button>\n",
              "\n",
              "<style>\n",
              "  .colab-df-quickchart {\n",
              "      --bg-color: #E8F0FE;\n",
              "      --fill-color: #1967D2;\n",
              "      --hover-bg-color: #E2EBFA;\n",
              "      --hover-fill-color: #174EA6;\n",
              "      --disabled-fill-color: #AAA;\n",
              "      --disabled-bg-color: #DDD;\n",
              "  }\n",
              "\n",
              "  [theme=dark] .colab-df-quickchart {\n",
              "      --bg-color: #3B4455;\n",
              "      --fill-color: #D2E3FC;\n",
              "      --hover-bg-color: #434B5C;\n",
              "      --hover-fill-color: #FFFFFF;\n",
              "      --disabled-bg-color: #3B4455;\n",
              "      --disabled-fill-color: #666;\n",
              "  }\n",
              "\n",
              "  .colab-df-quickchart {\n",
              "    background-color: var(--bg-color);\n",
              "    border: none;\n",
              "    border-radius: 50%;\n",
              "    cursor: pointer;\n",
              "    display: none;\n",
              "    fill: var(--fill-color);\n",
              "    height: 32px;\n",
              "    padding: 0;\n",
              "    width: 32px;\n",
              "  }\n",
              "\n",
              "  .colab-df-quickchart:hover {\n",
              "    background-color: var(--hover-bg-color);\n",
              "    box-shadow: 0 1px 2px rgba(60, 64, 67, 0.3), 0 1px 3px 1px rgba(60, 64, 67, 0.15);\n",
              "    fill: var(--button-hover-fill-color);\n",
              "  }\n",
              "\n",
              "  .colab-df-quickchart-complete:disabled,\n",
              "  .colab-df-quickchart-complete:disabled:hover {\n",
              "    background-color: var(--disabled-bg-color);\n",
              "    fill: var(--disabled-fill-color);\n",
              "    box-shadow: none;\n",
              "  }\n",
              "\n",
              "  .colab-df-spinner {\n",
              "    border: 2px solid var(--fill-color);\n",
              "    border-color: transparent;\n",
              "    border-bottom-color: var(--fill-color);\n",
              "    animation:\n",
              "      spin 1s steps(1) infinite;\n",
              "  }\n",
              "\n",
              "  @keyframes spin {\n",
              "    0% {\n",
              "      border-color: transparent;\n",
              "      border-bottom-color: var(--fill-color);\n",
              "      border-left-color: var(--fill-color);\n",
              "    }\n",
              "    20% {\n",
              "      border-color: transparent;\n",
              "      border-left-color: var(--fill-color);\n",
              "      border-top-color: var(--fill-color);\n",
              "    }\n",
              "    30% {\n",
              "      border-color: transparent;\n",
              "      border-left-color: var(--fill-color);\n",
              "      border-top-color: var(--fill-color);\n",
              "      border-right-color: var(--fill-color);\n",
              "    }\n",
              "    40% {\n",
              "      border-color: transparent;\n",
              "      border-right-color: var(--fill-color);\n",
              "      border-top-color: var(--fill-color);\n",
              "    }\n",
              "    60% {\n",
              "      border-color: transparent;\n",
              "      border-right-color: var(--fill-color);\n",
              "    }\n",
              "    80% {\n",
              "      border-color: transparent;\n",
              "      border-right-color: var(--fill-color);\n",
              "      border-bottom-color: var(--fill-color);\n",
              "    }\n",
              "    90% {\n",
              "      border-color: transparent;\n",
              "      border-bottom-color: var(--fill-color);\n",
              "    }\n",
              "  }\n",
              "</style>\n",
              "\n",
              "  <script>\n",
              "    async function quickchart(key) {\n",
              "      const quickchartButtonEl =\n",
              "        document.querySelector('#' + key + ' button');\n",
              "      quickchartButtonEl.disabled = true;  // To prevent multiple clicks.\n",
              "      quickchartButtonEl.classList.add('colab-df-spinner');\n",
              "      try {\n",
              "        const charts = await google.colab.kernel.invokeFunction(\n",
              "            'suggestCharts', [key], {});\n",
              "      } catch (error) {\n",
              "        console.error('Error during call to suggestCharts:', error);\n",
              "      }\n",
              "      quickchartButtonEl.classList.remove('colab-df-spinner');\n",
              "      quickchartButtonEl.classList.add('colab-df-quickchart-complete');\n",
              "    }\n",
              "    (() => {\n",
              "      let quickchartButtonEl =\n",
              "        document.querySelector('#df-7bfc96ae-e6ae-4563-b985-201f322bb5bc button');\n",
              "      quickchartButtonEl.style.display =\n",
              "        google.colab.kernel.accessAllowed ? 'block' : 'none';\n",
              "    })();\n",
              "  </script>\n",
              "</div>\n",
              "    </div>\n",
              "  </div>\n"
            ],
            "application/vnd.google.colaboratory.module+javascript": "\n      import \"https://ssl.gstatic.com/colaboratory/data_table/881c4a0d49046431/data_table.js\";\n\n      const table = window.createDataTable({\n        data: [[\"count\",\n{\n            'v': 21.0,\n            'f': \"21.0\",\n        },\n{\n            'v': 21.0,\n            'f': \"21.0\",\n        },\n{\n            'v': 21.0,\n            'f': \"21.0\",\n        },\n{\n            'v': 21.0,\n            'f': \"21.0\",\n        },\n{\n            'v': 21.0,\n            'f': \"21.0\",\n        },\n{\n            'v': 21.0,\n            'f': \"21.0\",\n        },\n{\n            'v': 21.0,\n            'f': \"21.0\",\n        },\n{\n            'v': 21.0,\n            'f': \"21.0\",\n        },\n{\n            'v': 21.0,\n            'f': \"21.0\",\n        },\n{\n            'v': 21.0,\n            'f': \"21.0\",\n        },\n{\n            'v': 21.0,\n            'f': \"21.0\",\n        },\n{\n            'v': 21.0,\n            'f': \"21.0\",\n        }],\n [\"mean\",\n{\n            'v': 236668.44562364285,\n            'f': \"236668.44562364285\",\n        },\n{\n            'v': 369.79444633493324,\n            'f': \"369.79444633493324\",\n        },\n{\n            'v': 418661.61904761905,\n            'f': \"418661.61904761905\",\n        },\n{\n            'v': 400683.3333333333,\n            'f': \"400683.3333333333\",\n        },\n{\n            'v': 375651.61904761905,\n            'f': \"375651.61904761905\",\n        },\n{\n            'v': 356042.2380952381,\n            'f': \"356042.2380952381\",\n        },\n{\n            'v': 2089.095238095238,\n            'f': \"2089.095238095238\",\n        },\n{\n            'v': 2020.4761904761904,\n            'f': \"2020.4761904761904\",\n        },\n{\n            'v': 1883.142857142857,\n            'f': \"1883.142857142857\",\n        },\n{\n            'v': 1866.952380952381,\n            'f': \"1866.952380952381\",\n        },\n{\n            'v': 559159.3289725238,\n            'f': \"559159.3289725238\",\n        },\n{\n            'v': 10309236254.01381,\n            'f': \"10309236254.01381\",\n        }],\n [\"std\",\n{\n            'v': 129423.45890768731,\n            'f': \"129423.45890768731\",\n        },\n{\n            'v': 202.22415456945848,\n            'f': \"202.22415456945848\",\n        },\n{\n            'v': 252391.80279943248,\n            'f': \"252391.80279943248\",\n        },\n{\n            'v': 245685.1656120763,\n            'f': \"245685.1656120763\",\n        },\n{\n            'v': 232024.7041587331,\n            'f': \"232024.7041587331\",\n        },\n{\n            'v': 241526.15526954937,\n            'f': \"241526.15526954937\",\n        },\n{\n            'v': 2857.463698890362,\n            'f': \"2857.463698890362\",\n        },\n{\n            'v': 2774.989596720096,\n            'f': \"2774.989596720096\",\n        },\n{\n            'v': 2548.549632353945,\n            'f': \"2548.549632353945\",\n        },\n{\n            'v': 2651.426455253671,\n            'f': \"2651.426455253671\",\n        },\n{\n            'v': 133171.14116629405,\n            'f': \"133171.14116629405\",\n        },\n{\n            'v': 5637663318.92302,\n            'f': \"5637663318.92302\",\n        }],\n [\"min\",\n{\n            'v': 32982.4007942,\n            'f': \"32982.4007942\",\n        },\n{\n            'v': 51.5350012476,\n            'f': \"51.5350012476\",\n        },\n{\n            'v': 66083.0,\n            'f': \"66083.0\",\n        },\n{\n            'v': 64285.0,\n            'f': \"64285.0\",\n        },\n{\n            'v': 65294.0,\n            'f': \"65294.0\",\n        },\n{\n            'v': 64676.0,\n            'f': \"64676.0\",\n        },\n{\n            'v': 190.0,\n            'f': \"190.0\",\n        },\n{\n            'v': 185.0,\n            'f': \"185.0\",\n        },\n{\n            'v': 188.0,\n            'f': \"188.0\",\n        },\n{\n            'v': 186.0,\n            'f': \"186.0\",\n        },\n{\n            'v': 321814.39849,\n            'f': \"321814.39849\",\n        },\n{\n            'v': 1436707631.75,\n            'f': \"1436707631.75\",\n        }],\n [\"25%\",\n{\n            'v': 146431.864374,\n            'f': \"146431.864374\",\n        },\n{\n            'v': 228.799788115,\n            'f': \"228.799788115\",\n        },\n{\n            'v': 156898.0,\n            'f': \"156898.0\",\n        },\n{\n            'v': 146438.0,\n            'f': \"146438.0\",\n        },\n{\n            'v': 138991.0,\n            'f': \"138991.0\",\n        },\n{\n            'v': 132866.0,\n            'f': \"132866.0\",\n        },\n{\n            'v': 340.0,\n            'f': \"340.0\",\n        },\n{\n            'v': 358.0,\n            'f': \"358.0\",\n        },\n{\n            'v': 332.0,\n            'f': \"332.0\",\n        },\n{\n            'v': 288.0,\n            'f': \"288.0\",\n        },\n{\n            'v': 492851.319687,\n            'f': \"492851.319687\",\n        },\n{\n            'v': 6378546499.0,\n            'f': \"6378546499.0\",\n        }],\n [\"50%\",\n{\n            'v': 215166.893094,\n            'f': \"215166.893094\",\n        },\n{\n            'v': 336.198270503,\n            'f': \"336.198270503\",\n        },\n{\n            'v': 448734.0,\n            'f': \"448734.0\",\n        },\n{\n            'v': 423394.0,\n            'f': \"423394.0\",\n        },\n{\n            'v': 395066.0,\n            'f': \"395066.0\",\n        },\n{\n            'v': 356502.0,\n            'f': \"356502.0\",\n        },\n{\n            'v': 1023.0,\n            'f': \"1023.0\",\n        },\n{\n            'v': 976.0,\n            'f': \"976.0\",\n        },\n{\n            'v': 788.0,\n            'f': \"788.0\",\n        },\n{\n            'v': 666.0,\n            'f': \"666.0\",\n        },\n{\n            'v': 541587.50724,\n            'f': \"541587.50724\",\n        },\n{\n            'v': 9372632370.96,\n            'f': \"9372632370.96\",\n        }],\n [\"75%\",\n{\n            'v': 310834.264884,\n            'f': \"310834.264884\",\n        },\n{\n            'v': 485.678538944,\n            'f': \"485.678538944\",\n        },\n{\n            'v': 576567.0,\n            'f': \"576567.0\",\n        },\n{\n            'v': 522541.0,\n            'f': \"522541.0\",\n        },\n{\n            'v': 532498.0,\n            'f': \"532498.0\",\n        },\n{\n            'v': 504094.0,\n            'f': \"504094.0\",\n        },\n{\n            'v': 2527.0,\n            'f': \"2527.0\",\n        },\n{\n            'v': 2367.0,\n            'f': \"2367.0\",\n        },\n{\n            'v': 2284.0,\n            'f': \"2284.0\",\n        },\n{\n            'v': 2073.0,\n            'f': \"2073.0\",\n        },\n{\n            'v': 664545.338596,\n            'f': \"664545.338596\",\n        },\n{\n            'v': 13539886418.5,\n            'f': \"13539886418.5\",\n        }],\n [\"max\",\n{\n            'v': 525002.68359,\n            'f': \"525002.68359\",\n        },\n{\n            'v': 820.316693216,\n            'f': \"820.316693216\",\n        },\n{\n            'v': 905116.0,\n            'f': \"905116.0\",\n        },\n{\n            'v': 884118.0,\n            'f': \"884118.0\",\n        },\n{\n            'v': 829592.0,\n            'f': \"829592.0\",\n        },\n{\n            'v': 850451.0,\n            'f': \"850451.0\",\n        },\n{\n            'v': 12309.0,\n            'f': \"12309.0\",\n        },\n{\n            'v': 11817.0,\n            'f': \"11817.0\",\n        },\n{\n            'v': 10733.0,\n            'f': \"10733.0\",\n        },\n{\n            'v': 10808.0,\n            'f': \"10808.0\",\n        },\n{\n            'v': 788906.717476,\n            'f': \"788906.717476\",\n        },\n{\n            'v': 22869025417.6,\n            'f': \"22869025417.6\",\n        }]],\n        columns: [[\"string\", \"index\"], [\"number\", \"ACRES\"], [\"number\", \"SQ_MILES\"], [\"number\", \"POP2010\"], [\"number\", \"POP2000\"], [\"number\", \"POP1990\"], [\"number\", \"POP1980\"], [\"number\", \"POPDEN2010\"], [\"number\", \"POPDEN2000\"], [\"number\", \"POPDEN1990\"], [\"number\", \"POPDEN1980\"], [\"number\", \"Shape_Leng\"], [\"number\", \"Shape_Area\"]],\n        columnOptions: [{\"width\": \"1px\", \"className\": \"index_column\"}],\n        rowsPerPage: 25,\n        helpUrl: \"https://colab.research.google.com/notebooks/data_table.ipynb\",\n        suppressOutputScrolling: true,\n        minimumWidth: undefined,\n      });\n\n      function appendQuickchartButton(parentElement) {\n        let quickchartButtonContainerElement = document.createElement('div');\n        quickchartButtonContainerElement.innerHTML = `\n<div id=\"df-cb6a0137-f786-4818-a2cd-359120dbd008\">\n  <button class=\"colab-df-quickchart\" onclick=\"quickchart('df-cb6a0137-f786-4818-a2cd-359120dbd008')\"\n            title=\"Suggest charts.\"\n            style=\"display:none;\">\n    \n<svg xmlns=\"http://www.w3.org/2000/svg\" height=\"24px\"viewBox=\"0 0 24 24\"\n     width=\"24px\">\n    <g>\n        <path d=\"M19 3H5c-1.1 0-2 .9-2 2v14c0 1.1.9 2 2 2h14c1.1 0 2-.9 2-2V5c0-1.1-.9-2-2-2zM9 17H7v-7h2v7zm4 0h-2V7h2v10zm4 0h-2v-4h2v4z\"/>\n    </g>\n</svg>\n  </button>\n  \n<style>\n  .colab-df-quickchart {\n      --bg-color: #E8F0FE;\n      --fill-color: #1967D2;\n      --hover-bg-color: #E2EBFA;\n      --hover-fill-color: #174EA6;\n      --disabled-fill-color: #AAA;\n      --disabled-bg-color: #DDD;\n  }\n\n  [theme=dark] .colab-df-quickchart {\n      --bg-color: #3B4455;\n      --fill-color: #D2E3FC;\n      --hover-bg-color: #434B5C;\n      --hover-fill-color: #FFFFFF;\n      --disabled-bg-color: #3B4455;\n      --disabled-fill-color: #666;\n  }\n\n  .colab-df-quickchart {\n    background-color: var(--bg-color);\n    border: none;\n    border-radius: 50%;\n    cursor: pointer;\n    display: none;\n    fill: var(--fill-color);\n    height: 32px;\n    padding: 0;\n    width: 32px;\n  }\n\n  .colab-df-quickchart:hover {\n    background-color: var(--hover-bg-color);\n    box-shadow: 0 1px 2px rgba(60, 64, 67, 0.3), 0 1px 3px 1px rgba(60, 64, 67, 0.15);\n    fill: var(--button-hover-fill-color);\n  }\n\n  .colab-df-quickchart-complete:disabled,\n  .colab-df-quickchart-complete:disabled:hover {\n    background-color: var(--disabled-bg-color);\n    fill: var(--disabled-fill-color);\n    box-shadow: none;\n  }\n\n  .colab-df-spinner {\n    border: 2px solid var(--fill-color);\n    border-color: transparent;\n    border-bottom-color: var(--fill-color);\n    animation:\n      spin 1s steps(1) infinite;\n  }\n\n  @keyframes spin {\n    0% {\n      border-color: transparent;\n      border-bottom-color: var(--fill-color);\n      border-left-color: var(--fill-color);\n    }\n    20% {\n      border-color: transparent;\n      border-left-color: var(--fill-color);\n      border-top-color: var(--fill-color);\n    }\n    30% {\n      border-color: transparent;\n      border-left-color: var(--fill-color);\n      border-top-color: var(--fill-color);\n      border-right-color: var(--fill-color);\n    }\n    40% {\n      border-color: transparent;\n      border-right-color: var(--fill-color);\n      border-top-color: var(--fill-color);\n    }\n    60% {\n      border-color: transparent;\n      border-right-color: var(--fill-color);\n    }\n    80% {\n      border-color: transparent;\n      border-right-color: var(--fill-color);\n      border-bottom-color: var(--fill-color);\n    }\n    90% {\n      border-color: transparent;\n      border-bottom-color: var(--fill-color);\n    }\n  }\n</style>\n\n  <script>\n    async function quickchart(key) {\n      const quickchartButtonEl =\n        document.querySelector('#' + key + ' button');\n      quickchartButtonEl.disabled = true;  // To prevent multiple clicks.\n      quickchartButtonEl.classList.add('colab-df-spinner');\n      try {\n        const charts = await google.colab.kernel.invokeFunction(\n            'suggestCharts', [key], {});\n      } catch (error) {\n        console.error('Error during call to suggestCharts:', error);\n      }\n      quickchartButtonEl.classList.remove('colab-df-spinner');\n      quickchartButtonEl.classList.add('colab-df-quickchart-complete');\n    }\n    (() => {\n      let quickchartButtonEl =\n        document.querySelector('#df-cb6a0137-f786-4818-a2cd-359120dbd008 button');\n      quickchartButtonEl.style.display =\n        google.colab.kernel.accessAllowed ? 'block' : 'none';\n    })();\n  </script>\n</div>`;\n        parentElement.appendChild(quickchartButtonContainerElement);\n      }\n\n      appendQuickchartButton(table);\n    "
          },
          "metadata": {},
          "execution_count": 15
        }
      ]
    },
    {
      "cell_type": "markdown",
      "source": [
        "# **Below code belongs to Problem Statement 1**"
      ],
      "metadata": {
        "id": "Li76VYuv98en"
      }
    },
    {
      "cell_type": "code",
      "source": [
        "!pip install mapclassify\n",
        "import mapclassify"
      ],
      "metadata": {
        "colab": {
          "base_uri": "https://localhost:8080/"
        },
        "id": "i_bZEToL8dnt",
        "outputId": "716f4863-76de-4c24-91e7-1933cf1e75ac"
      },
      "execution_count": 16,
      "outputs": [
        {
          "output_type": "stream",
          "name": "stdout",
          "text": [
            "Requirement already satisfied: mapclassify in /usr/local/lib/python3.10/dist-packages (2.6.0)\n",
            "Requirement already satisfied: scipy>=1.0 in /usr/local/lib/python3.10/dist-packages (from mapclassify) (1.11.2)\n",
            "Requirement already satisfied: numpy>=1.3 in /usr/local/lib/python3.10/dist-packages (from mapclassify) (1.23.5)\n",
            "Requirement already satisfied: scikit-learn in /usr/local/lib/python3.10/dist-packages (from mapclassify) (1.2.2)\n",
            "Requirement already satisfied: pandas>=1.0 in /usr/local/lib/python3.10/dist-packages (from mapclassify) (1.5.3)\n",
            "Requirement already satisfied: networkx in /usr/local/lib/python3.10/dist-packages (from mapclassify) (3.1)\n",
            "Requirement already satisfied: python-dateutil>=2.8.1 in /usr/local/lib/python3.10/dist-packages (from pandas>=1.0->mapclassify) (2.8.2)\n",
            "Requirement already satisfied: pytz>=2020.1 in /usr/local/lib/python3.10/dist-packages (from pandas>=1.0->mapclassify) (2023.3.post1)\n",
            "Requirement already satisfied: joblib>=1.1.1 in /usr/local/lib/python3.10/dist-packages (from scikit-learn->mapclassify) (1.3.2)\n",
            "Requirement already satisfied: threadpoolctl>=2.0.0 in /usr/local/lib/python3.10/dist-packages (from scikit-learn->mapclassify) (3.2.0)\n",
            "Requirement already satisfied: six>=1.5 in /usr/local/lib/python3.10/dist-packages (from python-dateutil>=2.8.1->pandas>=1.0->mapclassify) (1.16.0)\n"
          ]
        }
      ]
    },
    {
      "cell_type": "markdown",
      "source": [
        "mapping from gis datafile - if youre lucky, you'll get data from\n",
        "shapefile for creating own shapefile you can use quamtum shapefile which can use to draw any shape and to get satellite image you can use google  maps export data as xml file and load it into python we will now plot data which is inside the shapefile"
      ],
      "metadata": {
        "id": "VdXyvFhjUFTB"
      }
    },
    {
      "cell_type": "code",
      "source": [
        "njc.dtypes #it will show variables with format"
      ],
      "metadata": {
        "colab": {
          "base_uri": "https://localhost:8080/"
        },
        "id": "nmRi0Eya_N-G",
        "outputId": "fc13fda0-843d-476c-cb93-359cfbc63621"
      },
      "execution_count": 17,
      "outputs": [
        {
          "output_type": "execute_result",
          "data": {
            "text/plain": [
              "COUNTY          object\n",
              "COUNTY_LAB      object\n",
              "CO              object\n",
              "GNIS_NAME       object\n",
              "GNIS            object\n",
              "FIPSSTCO        object\n",
              "FIPSCO          object\n",
              "ACRES          float64\n",
              "SQ_MILES       float64\n",
              "POP2010          int64\n",
              "POP2000          int64\n",
              "POP1990          int64\n",
              "POP1980          int64\n",
              "POPDEN2010       int64\n",
              "POPDEN2000       int64\n",
              "POPDEN1990       int64\n",
              "POPDEN1980       int64\n",
              "REGION          object\n",
              "Shape_Leng     float64\n",
              "Shape_Area     float64\n",
              "geometry      geometry\n",
              "dtype: object"
            ]
          },
          "metadata": {},
          "execution_count": 17
        }
      ]
    },
    {
      "cell_type": "code",
      "source": [
        "#variables are in objec then you cannot classify that\n",
        "#njc.head(2)"
      ],
      "metadata": {
        "id": "bgLiEqrZ_Sc0"
      },
      "execution_count": 18,
      "outputs": []
    },
    {
      "cell_type": "code",
      "source": [
        "fig, ax = plt.subplots(1, figsize=(6,10))\n",
        "njc.plot(ax=ax,column='POPDEN2010',legend=True,cmap='YlOrRd',scheme='natural_breaks',k=5,\n",
        "         edgecolor='grey',linewidth=2,legend_kwds= {\"fmt\": \"{:,.0f}\",\n",
        "        'loc':'lower right','title_fontsize':'medium','fontsize':'small','markerscale':1.4}) #\n",
        "#leg1 = ax.get_legend()\n",
        "#leg1.set_title('''Population Density\n",
        "#2010 (pers/sq mi)''')\n",
        "ax.title.set_text(\"Population Density 2010 (pers/sq mi)\")\n",
        "ax.set_xticks([]) #kills xticks\n",
        "ax.set_yticks([]) #kills xticks"
      ],
      "metadata": {
        "id": "r9-KsWagB95A",
        "colab": {
          "base_uri": "https://localhost:8080/",
          "height": 846
        },
        "outputId": "09c81549-a42c-41ee-9b5b-ad081eb9ab17"
      },
      "execution_count": 19,
      "outputs": [
        {
          "output_type": "execute_result",
          "data": {
            "text/plain": [
              "<Axes: >"
            ]
          },
          "metadata": {},
          "execution_count": 19
        },
        {
          "output_type": "execute_result",
          "data": {
            "text/plain": [
              "[]"
            ]
          },
          "metadata": {},
          "execution_count": 19
        },
        {
          "output_type": "execute_result",
          "data": {
            "text/plain": [
              "[]"
            ]
          },
          "metadata": {},
          "execution_count": 19
        },
        {
          "output_type": "display_data",
          "data": {
            "text/plain": [
              "<Figure size 600x1000 with 1 Axes>"
            ],
            "image/png": "[encoded data removed]"
          },
          "metadata": {}
        }
      ]
    },
    {
      "cell_type": "markdown",
      "source": [
        "Join & Merge"
      ],
      "metadata": {
        "id": "8SV0SCcSICna"
      }
    },
    {
      "cell_type": "code",
      "source": [
        "new_df=pd.read_excel('https://github.com/Athang9/GIS/raw/main/TotIncTaxCounty%20(1)%20(1).xlsx')"
      ],
      "metadata": {
        "id": "8AvwGVe5IEgB"
      },
      "execution_count": 20,
      "outputs": []
    },
    {
      "cell_type": "code",
      "source": [
        "new_df.head()"
      ],
      "metadata": {
        "colab": {
          "base_uri": "https://localhost:8080/",
          "height": 228
        },
        "id": "pPrxyK7-IocL",
        "outputId": "59351f04-5c62-4e77-f526-2774d268adf2"
      },
      "execution_count": 21,
      "outputs": [
        {
          "output_type": "execute_result",
          "data": {
            "text/plain": [
              "       COUNTY   CODE  TOTAL_STATE_FEE  TOTAL_MUNI_TAX  TOTAL_STATE/MUNI\n",
              "0    ATLANTIC      1        740146.25       209485.40         949631.65\n",
              "1      BERGEN      2       1417081.07       849275.20        2266356.27\n",
              "2  BURLINGTON      3        597149.02       355146.72         952295.74\n",
              "3      CAMDEN      4        297085.46       164325.99         461411.45\n",
              "4    CAPE MAY      5       2618516.90       679300.15        3297817.05"
            ],
            "text/html": [
              "\n",
              "  <div id=\"df-e62ce4cf-57ee-4bb5-aedb-e95d58a3fad4\" class=\"colab-df-container\">\n",
              "    <div>\n",
              "<style scoped>\n",
              "    .dataframe tbody tr th:only-of-type {\n",
              "        vertical-align: middle;\n",
              "    }\n",
              "\n",
              "    .dataframe tbody tr th {\n",
              "        vertical-align: top;\n",
              "    }\n",
              "\n",
              "    .dataframe thead th {\n",
              "        text-align: right;\n",
              "    }\n",
              "</style>\n",
              "<table border=\"1\" class=\"dataframe\">\n",
              "  <thead>\n",
              "    <tr style=\"text-align: right;\">\n",
              "      <th></th>\n",
              "      <th>COUNTY</th>\n",
              "      <th>CODE</th>\n",
              "      <th>TOTAL_STATE_FEE</th>\n",
              "      <th>TOTAL_MUNI_TAX</th>\n",
              "      <th>TOTAL_STATE/MUNI</th>\n",
              "    </tr>\n",
              "  </thead>\n",
              "  <tbody>\n",
              "    <tr>\n",
              "      <th>0</th>\n",
              "      <td>ATLANTIC</td>\n",
              "      <td>1</td>\n",
              "      <td>740146.25</td>\n",
              "      <td>209485.40</td>\n",
              "      <td>949631.65</td>\n",
              "    </tr>\n",
              "    <tr>\n",
              "      <th>1</th>\n",
              "      <td>BERGEN</td>\n",
              "      <td>2</td>\n",
              "      <td>1417081.07</td>\n",
              "      <td>849275.20</td>\n",
              "      <td>2266356.27</td>\n",
              "    </tr>\n",
              "    <tr>\n",
              "      <th>2</th>\n",
              "      <td>BURLINGTON</td>\n",
              "      <td>3</td>\n",
              "      <td>597149.02</td>\n",
              "      <td>355146.72</td>\n",
              "      <td>952295.74</td>\n",
              "    </tr>\n",
              "    <tr>\n",
              "      <th>3</th>\n",
              "      <td>CAMDEN</td>\n",
              "      <td>4</td>\n",
              "      <td>297085.46</td>\n",
              "      <td>164325.99</td>\n",
              "      <td>461411.45</td>\n",
              "    </tr>\n",
              "    <tr>\n",
              "      <th>4</th>\n",
              "      <td>CAPE MAY</td>\n",
              "      <td>5</td>\n",
              "      <td>2618516.90</td>\n",
              "      <td>679300.15</td>\n",
              "      <td>3297817.05</td>\n",
              "    </tr>\n",
              "  </tbody>\n",
              "</table>\n",
              "</div>\n",
              "    <div class=\"colab-df-buttons\">\n",
              "\n",
              "  <div class=\"colab-df-container\">\n",
              "    <button class=\"colab-df-convert\" onclick=\"convertToInteractive('df-e62ce4cf-57ee-4bb5-aedb-e95d58a3fad4')\"\n",
              "            title=\"Convert this dataframe to an interactive table.\"\n",
              "            style=\"display:none;\">\n",
              "\n",
              "  <svg xmlns=\"http://www.w3.org/2000/svg\" height=\"24px\" viewBox=\"0 -960 960 960\">\n",
              "    <path d=\"M120-120v-720h720v720H120Zm60-500h600v-160H180v160Zm220 220h160v-160H400v160Zm0 220h160v-160H400v160ZM180-400h160v-160H180v160Zm440 0h160v-160H620v160ZM180-180h160v-160H180v160Zm440 0h160v-160H620v160Z\"/>\n",
              "  </svg>\n",
              "    </button>\n",
              "\n",
              "  <style>\n",
              "    .colab-df-container {\n",
              "      display:flex;\n",
              "      gap: 12px;\n",
              "    }\n",
              "\n",
              "    .colab-df-convert {\n",
              "      background-color: #E8F0FE;\n",
              "      border: none;\n",
              "      border-radius: 50%;\n",
              "      cursor: pointer;\n",
              "      display: none;\n",
              "      fill: #1967D2;\n",
              "      height: 32px;\n",
              "      padding: 0 0 0 0;\n",
              "      width: 32px;\n",
              "    }\n",
              "\n",
              "    .colab-df-convert:hover {\n",
              "      background-color: #E2EBFA;\n",
              "      box-shadow: 0px 1px 2px rgba(60, 64, 67, 0.3), 0px 1px 3px 1px rgba(60, 64, 67, 0.15);\n",
              "      fill: #174EA6;\n",
              "    }\n",
              "\n",
              "    .colab-df-buttons div {\n",
              "      margin-bottom: 4px;\n",
              "    }\n",
              "\n",
              "    [theme=dark] .colab-df-convert {\n",
              "      background-color: #3B4455;\n",
              "      fill: #D2E3FC;\n",
              "    }\n",
              "\n",
              "    [theme=dark] .colab-df-convert:hover {\n",
              "      background-color: #434B5C;\n",
              "      box-shadow: 0px 1px 3px 1px rgba(0, 0, 0, 0.15);\n",
              "      filter: drop-shadow(0px 1px 2px rgba(0, 0, 0, 0.3));\n",
              "      fill: #FFFFFF;\n",
              "    }\n",
              "  </style>\n",
              "\n",
              "    <script>\n",
              "      const buttonEl =\n",
              "        document.querySelector('#df-e62ce4cf-57ee-4bb5-aedb-e95d58a3fad4 button.colab-df-convert');\n",
              "      buttonEl.style.display =\n",
              "        google.colab.kernel.accessAllowed ? 'block' : 'none';\n",
              "\n",
              "      async function convertToInteractive(key) {\n",
              "        const element = document.querySelector('#df-e62ce4cf-57ee-4bb5-aedb-e95d58a3fad4');\n",
              "        const dataTable =\n",
              "          await google.colab.kernel.invokeFunction('convertToInteractive',\n",
              "                                                    [key], {});\n",
              "        if (!dataTable) return;\n",
              "\n",
              "        const docLinkHtml = 'Like what you see? Visit the ' +\n",
              "          '<a target=\"_blank\" href=https://colab.research.google.com/notebooks/data_table.ipynb>data table notebook</a>'\n",
              "          + ' to learn more about interactive tables.';\n",
              "        element.innerHTML = '';\n",
              "        dataTable['output_type'] = 'display_data';\n",
              "        await google.colab.output.renderOutput(dataTable, element);\n",
              "        const docLink = document.createElement('div');\n",
              "        docLink.innerHTML = docLinkHtml;\n",
              "        element.appendChild(docLink);\n",
              "      }\n",
              "    </script>\n",
              "  </div>\n",
              "\n",
              "\n",
              "<div id=\"df-e1a1ddbc-9935-48bb-acc3-54c1508c508b\">\n",
              "  <button class=\"colab-df-quickchart\" onclick=\"quickchart('df-e1a1ddbc-9935-48bb-acc3-54c1508c508b')\"\n",
              "            title=\"Suggest charts.\"\n",
              "            style=\"display:none;\">\n",
              "\n",
              "<svg xmlns=\"http://www.w3.org/2000/svg\" height=\"24px\"viewBox=\"0 0 24 24\"\n",
              "     width=\"24px\">\n",
              "    <g>\n",
              "        <path d=\"M19 3H5c-1.1 0-2 .9-2 2v14c0 1.1.9 2 2 2h14c1.1 0 2-.9 2-2V5c0-1.1-.9-2-2-2zM9 17H7v-7h2v7zm4 0h-2V7h2v10zm4 0h-2v-4h2v4z\"/>\n",
              "    </g>\n",
              "</svg>\n",
              "  </button>\n",
              "\n",
              "<style>\n",
              "  .colab-df-quickchart {\n",
              "      --bg-color: #E8F0FE;\n",
              "      --fill-color: #1967D2;\n",
              "      --hover-bg-color: #E2EBFA;\n",
              "      --hover-fill-color: #174EA6;\n",
              "      --disabled-fill-color: #AAA;\n",
              "      --disabled-bg-color: #DDD;\n",
              "  }\n",
              "\n",
              "  [theme=dark] .colab-df-quickchart {\n",
              "      --bg-color: #3B4455;\n",
              "      --fill-color: #D2E3FC;\n",
              "      --hover-bg-color: #434B5C;\n",
              "      --hover-fill-color: #FFFFFF;\n",
              "      --disabled-bg-color: #3B4455;\n",
              "      --disabled-fill-color: #666;\n",
              "  }\n",
              "\n",
              "  .colab-df-quickchart {\n",
              "    background-color: var(--bg-color);\n",
              "    border: none;\n",
              "    border-radius: 50%;\n",
              "    cursor: pointer;\n",
              "    display: none;\n",
              "    fill: var(--fill-color);\n",
              "    height: 32px;\n",
              "    padding: 0;\n",
              "    width: 32px;\n",
              "  }\n",
              "\n",
              "  .colab-df-quickchart:hover {\n",
              "    background-color: var(--hover-bg-color);\n",
              "    box-shadow: 0 1px 2px rgba(60, 64, 67, 0.3), 0 1px 3px 1px rgba(60, 64, 67, 0.15);\n",
              "    fill: var(--button-hover-fill-color);\n",
              "  }\n",
              "\n",
              "  .colab-df-quickchart-complete:disabled,\n",
              "  .colab-df-quickchart-complete:disabled:hover {\n",
              "    background-color: var(--disabled-bg-color);\n",
              "    fill: var(--disabled-fill-color);\n",
              "    box-shadow: none;\n",
              "  }\n",
              "\n",
              "  .colab-df-spinner {\n",
              "    border: 2px solid var(--fill-color);\n",
              "    border-color: transparent;\n",
              "    border-bottom-color: var(--fill-color);\n",
              "    animation:\n",
              "      spin 1s steps(1) infinite;\n",
              "  }\n",
              "\n",
              "  @keyframes spin {\n",
              "    0% {\n",
              "      border-color: transparent;\n",
              "      border-bottom-color: var(--fill-color);\n",
              "      border-left-color: var(--fill-color);\n",
              "    }\n",
              "    20% {\n",
              "      border-color: transparent;\n",
              "      border-left-color: var(--fill-color);\n",
              "      border-top-color: var(--fill-color);\n",
              "    }\n",
              "    30% {\n",
              "      border-color: transparent;\n",
              "      border-left-color: var(--fill-color);\n",
              "      border-top-color: var(--fill-color);\n",
              "      border-right-color: var(--fill-color);\n",
              "    }\n",
              "    40% {\n",
              "      border-color: transparent;\n",
              "      border-right-color: var(--fill-color);\n",
              "      border-top-color: var(--fill-color);\n",
              "    }\n",
              "    60% {\n",
              "      border-color: transparent;\n",
              "      border-right-color: var(--fill-color);\n",
              "    }\n",
              "    80% {\n",
              "      border-color: transparent;\n",
              "      border-right-color: var(--fill-color);\n",
              "      border-bottom-color: var(--fill-color);\n",
              "    }\n",
              "    90% {\n",
              "      border-color: transparent;\n",
              "      border-bottom-color: var(--fill-color);\n",
              "    }\n",
              "  }\n",
              "</style>\n",
              "\n",
              "  <script>\n",
              "    async function quickchart(key) {\n",
              "      const quickchartButtonEl =\n",
              "        document.querySelector('#' + key + ' button');\n",
              "      quickchartButtonEl.disabled = true;  // To prevent multiple clicks.\n",
              "      quickchartButtonEl.classList.add('colab-df-spinner');\n",
              "      try {\n",
              "        const charts = await google.colab.kernel.invokeFunction(\n",
              "            'suggestCharts', [key], {});\n",
              "      } catch (error) {\n",
              "        console.error('Error during call to suggestCharts:', error);\n",
              "      }\n",
              "      quickchartButtonEl.classList.remove('colab-df-spinner');\n",
              "      quickchartButtonEl.classList.add('colab-df-quickchart-complete');\n",
              "    }\n",
              "    (() => {\n",
              "      let quickchartButtonEl =\n",
              "        document.querySelector('#df-e1a1ddbc-9935-48bb-acc3-54c1508c508b button');\n",
              "      quickchartButtonEl.style.display =\n",
              "        google.colab.kernel.accessAllowed ? 'block' : 'none';\n",
              "    })();\n",
              "  </script>\n",
              "</div>\n",
              "    </div>\n",
              "  </div>\n"
            ],
            "application/vnd.google.colaboratory.module+javascript": "\n      import \"https://ssl.gstatic.com/colaboratory/data_table/881c4a0d49046431/data_table.js\";\n\n      const table = window.createDataTable({\n        data: [[{\n            'v': 0,\n            'f': \"0\",\n        },\n\"ATLANTIC \",\n{\n            'v': 1,\n            'f': \"1\",\n        },\n{\n            'v': 740146.25,\n            'f': \"740146.25\",\n        },\n{\n            'v': 209485.4,\n            'f': \"209485.4\",\n        },\n{\n            'v': 949631.65,\n            'f': \"949631.65\",\n        }],\n [{\n            'v': 1,\n            'f': \"1\",\n        },\n\"BERGEN \",\n{\n            'v': 2,\n            'f': \"2\",\n        },\n{\n            'v': 1417081.07,\n            'f': \"1417081.07\",\n        },\n{\n            'v': 849275.2,\n            'f': \"849275.2\",\n        },\n{\n            'v': 2266356.27,\n            'f': \"2266356.27\",\n        }],\n [{\n            'v': 2,\n            'f': \"2\",\n        },\n\"BURLINGTON \",\n{\n            'v': 3,\n            'f': \"3\",\n        },\n{\n            'v': 597149.02,\n            'f': \"597149.02\",\n        },\n{\n            'v': 355146.72,\n            'f': \"355146.72\",\n        },\n{\n            'v': 952295.74,\n            'f': \"952295.74\",\n        }],\n [{\n            'v': 3,\n            'f': \"3\",\n        },\n\"CAMDEN \",\n{\n            'v': 4,\n            'f': \"4\",\n        },\n{\n            'v': 297085.46,\n            'f': \"297085.46\",\n        },\n{\n            'v': 164325.99,\n            'f': \"164325.99\",\n        },\n{\n            'v': 461411.45,\n            'f': \"461411.45\",\n        }],\n [{\n            'v': 4,\n            'f': \"4\",\n        },\n\"CAPE MAY \",\n{\n            'v': 5,\n            'f': \"5\",\n        },\n{\n            'v': 2618516.9,\n            'f': \"2618516.9\",\n        },\n{\n            'v': 679300.15,\n            'f': \"679300.15\",\n        },\n{\n            'v': 3297817.05,\n            'f': \"3297817.05\",\n        }]],\n        columns: [[\"number\", \"index\"], [\"string\", \"COUNTY \"], [\"number\", \"CODE\"], [\"number\", \"TOTAL_STATE_FEE\"], [\"number\", \"TOTAL_MUNI_TAX\"], [\"number\", \"TOTAL_STATE/MUNI\"]],\n        columnOptions: [{\"width\": \"1px\", \"className\": \"index_column\"}],\n        rowsPerPage: 25,\n        helpUrl: \"https://colab.research.google.com/notebooks/data_table.ipynb\",\n        suppressOutputScrolling: true,\n        minimumWidth: undefined,\n      });\n\n      function appendQuickchartButton(parentElement) {\n        let quickchartButtonContainerElement = document.createElement('div');\n        quickchartButtonContainerElement.innerHTML = `\n<div id=\"df-0270783e-f5f6-467e-840b-4e5a50da33b6\">\n  <button class=\"colab-df-quickchart\" onclick=\"quickchart('df-0270783e-f5f6-467e-840b-4e5a50da33b6')\"\n            title=\"Suggest charts.\"\n            style=\"display:none;\">\n    \n<svg xmlns=\"http://www.w3.org/2000/svg\" height=\"24px\"viewBox=\"0 0 24 24\"\n     width=\"24px\">\n    <g>\n        <path d=\"M19 3H5c-1.1 0-2 .9-2 2v14c0 1.1.9 2 2 2h14c1.1 0 2-.9 2-2V5c0-1.1-.9-2-2-2zM9 17H7v-7h2v7zm4 0h-2V7h2v10zm4 0h-2v-4h2v4z\"/>\n    </g>\n</svg>\n  </button>\n  \n<style>\n  .colab-df-quickchart {\n      --bg-color: #E8F0FE;\n      --fill-color: #1967D2;\n      --hover-bg-color: #E2EBFA;\n      --hover-fill-color: #174EA6;\n      --disabled-fill-color: #AAA;\n      --disabled-bg-color: #DDD;\n  }\n\n  [theme=dark] .colab-df-quickchart {\n      --bg-color: #3B4455;\n      --fill-color: #D2E3FC;\n      --hover-bg-color: #434B5C;\n      --hover-fill-color: #FFFFFF;\n      --disabled-bg-color: #3B4455;\n      --disabled-fill-color: #666;\n  }\n\n  .colab-df-quickchart {\n    background-color: var(--bg-color);\n    border: none;\n    border-radius: 50%;\n    cursor: pointer;\n    display: none;\n    fill: var(--fill-color);\n    height: 32px;\n    padding: 0;\n    width: 32px;\n  }\n\n  .colab-df-quickchart:hover {\n    background-color: var(--hover-bg-color);\n    box-shadow: 0 1px 2px rgba(60, 64, 67, 0.3), 0 1px 3px 1px rgba(60, 64, 67, 0.15);\n    fill: var(--button-hover-fill-color);\n  }\n\n  .colab-df-quickchart-complete:disabled,\n  .colab-df-quickchart-complete:disabled:hover {\n    background-color: var(--disabled-bg-color);\n    fill: var(--disabled-fill-color);\n    box-shadow: none;\n  }\n\n  .colab-df-spinner {\n    border: 2px solid var(--fill-color);\n    border-color: transparent;\n    border-bottom-color: var(--fill-color);\n    animation:\n      spin 1s steps(1) infinite;\n  }\n\n  @keyframes spin {\n    0% {\n      border-color: transparent;\n      border-bottom-color: var(--fill-color);\n      border-left-color: var(--fill-color);\n    }\n    20% {\n      border-color: transparent;\n      border-left-color: var(--fill-color);\n      border-top-color: var(--fill-color);\n    }\n    30% {\n      border-color: transparent;\n      border-left-color: var(--fill-color);\n      border-top-color: var(--fill-color);\n      border-right-color: var(--fill-color);\n    }\n    40% {\n      border-color: transparent;\n      border-right-color: var(--fill-color);\n      border-top-color: var(--fill-color);\n    }\n    60% {\n      border-color: transparent;\n      border-right-color: var(--fill-color);\n    }\n    80% {\n      border-color: transparent;\n      border-right-color: var(--fill-color);\n      border-bottom-color: var(--fill-color);\n    }\n    90% {\n      border-color: transparent;\n      border-bottom-color: var(--fill-color);\n    }\n  }\n</style>\n\n  <script>\n    async function quickchart(key) {\n      const quickchartButtonEl =\n        document.querySelector('#' + key + ' button');\n      quickchartButtonEl.disabled = true;  // To prevent multiple clicks.\n      quickchartButtonEl.classList.add('colab-df-spinner');\n      try {\n        const charts = await google.colab.kernel.invokeFunction(\n            'suggestCharts', [key], {});\n      } catch (error) {\n        console.error('Error during call to suggestCharts:', error);\n      }\n      quickchartButtonEl.classList.remove('colab-df-spinner');\n      quickchartButtonEl.classList.add('colab-df-quickchart-complete');\n    }\n    (() => {\n      let quickchartButtonEl =\n        document.querySelector('#df-0270783e-f5f6-467e-840b-4e5a50da33b6 button');\n      quickchartButtonEl.style.display =\n        google.colab.kernel.accessAllowed ? 'block' : 'none';\n    })();\n  </script>\n</div>`;\n        parentElement.appendChild(quickchartButtonContainerElement);\n      }\n\n      appendQuickchartButton(table);\n    "
          },
          "metadata": {},
          "execution_count": 21
        }
      ]
    },
    {
      "cell_type": "code",
      "source": [
        "new_df.dtypes\n",
        "new_df.head()"
      ],
      "metadata": {
        "id": "xJrgjUazIuz5",
        "colab": {
          "base_uri": "https://localhost:8080/",
          "height": 332
        },
        "outputId": "f46d1fa1-3c5b-428c-81fd-f48714a2af28"
      },
      "execution_count": 22,
      "outputs": [
        {
          "output_type": "execute_result",
          "data": {
            "text/plain": [
              "COUNTY               object\n",
              "CODE                  int64\n",
              "TOTAL_STATE_FEE     float64\n",
              "TOTAL_MUNI_TAX      float64\n",
              "TOTAL_STATE/MUNI    float64\n",
              "dtype: object"
            ]
          },
          "metadata": {},
          "execution_count": 22
        },
        {
          "output_type": "execute_result",
          "data": {
            "text/plain": [
              "       COUNTY   CODE  TOTAL_STATE_FEE  TOTAL_MUNI_TAX  TOTAL_STATE/MUNI\n",
              "0    ATLANTIC      1        740146.25       209485.40         949631.65\n",
              "1      BERGEN      2       1417081.07       849275.20        2266356.27\n",
              "2  BURLINGTON      3        597149.02       355146.72         952295.74\n",
              "3      CAMDEN      4        297085.46       164325.99         461411.45\n",
              "4    CAPE MAY      5       2618516.90       679300.15        3297817.05"
            ],
            "text/html": [
              "\n",
              "  <div id=\"df-62503774-d423-4253-be89-305e65d54119\" class=\"colab-df-container\">\n",
              "    <div>\n",
              "<style scoped>\n",
              "    .dataframe tbody tr th:only-of-type {\n",
              "        vertical-align: middle;\n",
              "    }\n",
              "\n",
              "    .dataframe tbody tr th {\n",
              "        vertical-align: top;\n",
              "    }\n",
              "\n",
              "    .dataframe thead th {\n",
              "        text-align: right;\n",
              "    }\n",
              "</style>\n",
              "<table border=\"1\" class=\"dataframe\">\n",
              "  <thead>\n",
              "    <tr style=\"text-align: right;\">\n",
              "      <th></th>\n",
              "      <th>COUNTY</th>\n",
              "      <th>CODE</th>\n",
              "      <th>TOTAL_STATE_FEE</th>\n",
              "      <th>TOTAL_MUNI_TAX</th>\n",
              "      <th>TOTAL_STATE/MUNI</th>\n",
              "    </tr>\n",
              "  </thead>\n",
              "  <tbody>\n",
              "    <tr>\n",
              "      <th>0</th>\n",
              "      <td>ATLANTIC</td>\n",
              "      <td>1</td>\n",
              "      <td>740146.25</td>\n",
              "      <td>209485.40</td>\n",
              "      <td>949631.65</td>\n",
              "    </tr>\n",
              "    <tr>\n",
              "      <th>1</th>\n",
              "      <td>BERGEN</td>\n",
              "      <td>2</td>\n",
              "      <td>1417081.07</td>\n",
              "      <td>849275.20</td>\n",
              "      <td>2266356.27</td>\n",
              "    </tr>\n",
              "    <tr>\n",
              "      <th>2</th>\n",
              "      <td>BURLINGTON</td>\n",
              "      <td>3</td>\n",
              "      <td>597149.02</td>\n",
              "      <td>355146.72</td>\n",
              "      <td>952295.74</td>\n",
              "    </tr>\n",
              "    <tr>\n",
              "      <th>3</th>\n",
              "      <td>CAMDEN</td>\n",
              "      <td>4</td>\n",
              "      <td>297085.46</td>\n",
              "      <td>164325.99</td>\n",
              "      <td>461411.45</td>\n",
              "    </tr>\n",
              "    <tr>\n",
              "      <th>4</th>\n",
              "      <td>CAPE MAY</td>\n",
              "      <td>5</td>\n",
              "      <td>2618516.90</td>\n",
              "      <td>679300.15</td>\n",
              "      <td>3297817.05</td>\n",
              "    </tr>\n",
              "  </tbody>\n",
              "</table>\n",
              "</div>\n",
              "    <div class=\"colab-df-buttons\">\n",
              "\n",
              "  <div class=\"colab-df-container\">\n",
              "    <button class=\"colab-df-convert\" onclick=\"convertToInteractive('df-62503774-d423-4253-be89-305e65d54119')\"\n",
              "            title=\"Convert this dataframe to an interactive table.\"\n",
              "            style=\"display:none;\">\n",
              "\n",
              "  <svg xmlns=\"http://www.w3.org/2000/svg\" height=\"24px\" viewBox=\"0 -960 960 960\">\n",
              "    <path d=\"M120-120v-720h720v720H120Zm60-500h600v-160H180v160Zm220 220h160v-160H400v160Zm0 220h160v-160H400v160ZM180-400h160v-160H180v160Zm440 0h160v-160H620v160ZM180-180h160v-160H180v160Zm440 0h160v-160H620v160Z\"/>\n",
              "  </svg>\n",
              "    </button>\n",
              "\n",
              "  <style>\n",
              "    .colab-df-container {\n",
              "      display:flex;\n",
              "      gap: 12px;\n",
              "    }\n",
              "\n",
              "    .colab-df-convert {\n",
              "      background-color: #E8F0FE;\n",
              "      border: none;\n",
              "      border-radius: 50%;\n",
              "      cursor: pointer;\n",
              "      display: none;\n",
              "      fill: #1967D2;\n",
              "      height: 32px;\n",
              "      padding: 0 0 0 0;\n",
              "      width: 32px;\n",
              "    }\n",
              "\n",
              "    .colab-df-convert:hover {\n",
              "      background-color: #E2EBFA;\n",
              "      box-shadow: 0px 1px 2px rgba(60, 64, 67, 0.3), 0px 1px 3px 1px rgba(60, 64, 67, 0.15);\n",
              "      fill: #174EA6;\n",
              "    }\n",
              "\n",
              "    .colab-df-buttons div {\n",
              "      margin-bottom: 4px;\n",
              "    }\n",
              "\n",
              "    [theme=dark] .colab-df-convert {\n",
              "      background-color: #3B4455;\n",
              "      fill: #D2E3FC;\n",
              "    }\n",
              "\n",
              "    [theme=dark] .colab-df-convert:hover {\n",
              "      background-color: #434B5C;\n",
              "      box-shadow: 0px 1px 3px 1px rgba(0, 0, 0, 0.15);\n",
              "      filter: drop-shadow(0px 1px 2px rgba(0, 0, 0, 0.3));\n",
              "      fill: #FFFFFF;\n",
              "    }\n",
              "  </style>\n",
              "\n",
              "    <script>\n",
              "      const buttonEl =\n",
              "        document.querySelector('#df-62503774-d423-4253-be89-305e65d54119 button.colab-df-convert');\n",
              "      buttonEl.style.display =\n",
              "        google.colab.kernel.accessAllowed ? 'block' : 'none';\n",
              "\n",
              "      async function convertToInteractive(key) {\n",
              "        const element = document.querySelector('#df-62503774-d423-4253-be89-305e65d54119');\n",
              "        const dataTable =\n",
              "          await google.colab.kernel.invokeFunction('convertToInteractive',\n",
              "                                                    [key], {});\n",
              "        if (!dataTable) return;\n",
              "\n",
              "        const docLinkHtml = 'Like what you see? Visit the ' +\n",
              "          '<a target=\"_blank\" href=https://colab.research.google.com/notebooks/data_table.ipynb>data table notebook</a>'\n",
              "          + ' to learn more about interactive tables.';\n",
              "        element.innerHTML = '';\n",
              "        dataTable['output_type'] = 'display_data';\n",
              "        await google.colab.output.renderOutput(dataTable, element);\n",
              "        const docLink = document.createElement('div');\n",
              "        docLink.innerHTML = docLinkHtml;\n",
              "        element.appendChild(docLink);\n",
              "      }\n",
              "    </script>\n",
              "  </div>\n",
              "\n",
              "\n",
              "<div id=\"df-f3f5024a-e906-4084-bcab-365ef3108ac2\">\n",
              "  <button class=\"colab-df-quickchart\" onclick=\"quickchart('df-f3f5024a-e906-4084-bcab-365ef3108ac2')\"\n",
              "            title=\"Suggest charts.\"\n",
              "            style=\"display:none;\">\n",
              "\n",
              "<svg xmlns=\"http://www.w3.org/2000/svg\" height=\"24px\"viewBox=\"0 0 24 24\"\n",
              "     width=\"24px\">\n",
              "    <g>\n",
              "        <path d=\"M19 3H5c-1.1 0-2 .9-2 2v14c0 1.1.9 2 2 2h14c1.1 0 2-.9 2-2V5c0-1.1-.9-2-2-2zM9 17H7v-7h2v7zm4 0h-2V7h2v10zm4 0h-2v-4h2v4z\"/>\n",
              "    </g>\n",
              "</svg>\n",
              "  </button>\n",
              "\n",
              "<style>\n",
              "  .colab-df-quickchart {\n",
              "      --bg-color: #E8F0FE;\n",
              "      --fill-color: #1967D2;\n",
              "      --hover-bg-color: #E2EBFA;\n",
              "      --hover-fill-color: #174EA6;\n",
              "      --disabled-fill-color: #AAA;\n",
              "      --disabled-bg-color: #DDD;\n",
              "  }\n",
              "\n",
              "  [theme=dark] .colab-df-quickchart {\n",
              "      --bg-color: #3B4455;\n",
              "      --fill-color: #D2E3FC;\n",
              "      --hover-bg-color: #434B5C;\n",
              "      --hover-fill-color: #FFFFFF;\n",
              "      --disabled-bg-color: #3B4455;\n",
              "      --disabled-fill-color: #666;\n",
              "  }\n",
              "\n",
              "  .colab-df-quickchart {\n",
              "    background-color: var(--bg-color);\n",
              "    border: none;\n",
              "    border-radius: 50%;\n",
              "    cursor: pointer;\n",
              "    display: none;\n",
              "    fill: var(--fill-color);\n",
              "    height: 32px;\n",
              "    padding: 0;\n",
              "    width: 32px;\n",
              "  }\n",
              "\n",
              "  .colab-df-quickchart:hover {\n",
              "    background-color: var(--hover-bg-color);\n",
              "    box-shadow: 0 1px 2px rgba(60, 64, 67, 0.3), 0 1px 3px 1px rgba(60, 64, 67, 0.15);\n",
              "    fill: var(--button-hover-fill-color);\n",
              "  }\n",
              "\n",
              "  .colab-df-quickchart-complete:disabled,\n",
              "  .colab-df-quickchart-complete:disabled:hover {\n",
              "    background-color: var(--disabled-bg-color);\n",
              "    fill: var(--disabled-fill-color);\n",
              "    box-shadow: none;\n",
              "  }\n",
              "\n",
              "  .colab-df-spinner {\n",
              "    border: 2px solid var(--fill-color);\n",
              "    border-color: transparent;\n",
              "    border-bottom-color: var(--fill-color);\n",
              "    animation:\n",
              "      spin 1s steps(1) infinite;\n",
              "  }\n",
              "\n",
              "  @keyframes spin {\n",
              "    0% {\n",
              "      border-color: transparent;\n",
              "      border-bottom-color: var(--fill-color);\n",
              "      border-left-color: var(--fill-color);\n",
              "    }\n",
              "    20% {\n",
              "      border-color: transparent;\n",
              "      border-left-color: var(--fill-color);\n",
              "      border-top-color: var(--fill-color);\n",
              "    }\n",
              "    30% {\n",
              "      border-color: transparent;\n",
              "      border-left-color: var(--fill-color);\n",
              "      border-top-color: var(--fill-color);\n",
              "      border-right-color: var(--fill-color);\n",
              "    }\n",
              "    40% {\n",
              "      border-color: transparent;\n",
              "      border-right-color: var(--fill-color);\n",
              "      border-top-color: var(--fill-color);\n",
              "    }\n",
              "    60% {\n",
              "      border-color: transparent;\n",
              "      border-right-color: var(--fill-color);\n",
              "    }\n",
              "    80% {\n",
              "      border-color: transparent;\n",
              "      border-right-color: var(--fill-color);\n",
              "      border-bottom-color: var(--fill-color);\n",
              "    }\n",
              "    90% {\n",
              "      border-color: transparent;\n",
              "      border-bottom-color: var(--fill-color);\n",
              "    }\n",
              "  }\n",
              "</style>\n",
              "\n",
              "  <script>\n",
              "    async function quickchart(key) {\n",
              "      const quickchartButtonEl =\n",
              "        document.querySelector('#' + key + ' button');\n",
              "      quickchartButtonEl.disabled = true;  // To prevent multiple clicks.\n",
              "      quickchartButtonEl.classList.add('colab-df-spinner');\n",
              "      try {\n",
              "        const charts = await google.colab.kernel.invokeFunction(\n",
              "            'suggestCharts', [key], {});\n",
              "      } catch (error) {\n",
              "        console.error('Error during call to suggestCharts:', error);\n",
              "      }\n",
              "      quickchartButtonEl.classList.remove('colab-df-spinner');\n",
              "      quickchartButtonEl.classList.add('colab-df-quickchart-complete');\n",
              "    }\n",
              "    (() => {\n",
              "      let quickchartButtonEl =\n",
              "        document.querySelector('#df-f3f5024a-e906-4084-bcab-365ef3108ac2 button');\n",
              "      quickchartButtonEl.style.display =\n",
              "        google.colab.kernel.accessAllowed ? 'block' : 'none';\n",
              "    })();\n",
              "  </script>\n",
              "</div>\n",
              "    </div>\n",
              "  </div>\n"
            ],
            "application/vnd.google.colaboratory.module+javascript": "\n      import \"https://ssl.gstatic.com/colaboratory/data_table/881c4a0d49046431/data_table.js\";\n\n      const table = window.createDataTable({\n        data: [[{\n            'v': 0,\n            'f': \"0\",\n        },\n\"ATLANTIC \",\n{\n            'v': 1,\n            'f': \"1\",\n        },\n{\n            'v': 740146.25,\n            'f': \"740146.25\",\n        },\n{\n            'v': 209485.4,\n            'f': \"209485.4\",\n        },\n{\n            'v': 949631.65,\n            'f': \"949631.65\",\n        }],\n [{\n            'v': 1,\n            'f': \"1\",\n        },\n\"BERGEN \",\n{\n            'v': 2,\n            'f': \"2\",\n        },\n{\n            'v': 1417081.07,\n            'f': \"1417081.07\",\n        },\n{\n            'v': 849275.2,\n            'f': \"849275.2\",\n        },\n{\n            'v': 2266356.27,\n            'f': \"2266356.27\",\n        }],\n [{\n            'v': 2,\n            'f': \"2\",\n        },\n\"BURLINGTON \",\n{\n            'v': 3,\n            'f': \"3\",\n        },\n{\n            'v': 597149.02,\n            'f': \"597149.02\",\n        },\n{\n            'v': 355146.72,\n            'f': \"355146.72\",\n        },\n{\n            'v': 952295.74,\n            'f': \"952295.74\",\n        }],\n [{\n            'v': 3,\n            'f': \"3\",\n        },\n\"CAMDEN \",\n{\n            'v': 4,\n            'f': \"4\",\n        },\n{\n            'v': 297085.46,\n            'f': \"297085.46\",\n        },\n{\n            'v': 164325.99,\n            'f': \"164325.99\",\n        },\n{\n            'v': 461411.45,\n            'f': \"461411.45\",\n        }],\n [{\n            'v': 4,\n            'f': \"4\",\n        },\n\"CAPE MAY \",\n{\n            'v': 5,\n            'f': \"5\",\n        },\n{\n            'v': 2618516.9,\n            'f': \"2618516.9\",\n        },\n{\n            'v': 679300.15,\n            'f': \"679300.15\",\n        },\n{\n            'v': 3297817.05,\n            'f': \"3297817.05\",\n        }]],\n        columns: [[\"number\", \"index\"], [\"string\", \"COUNTY \"], [\"number\", \"CODE\"], [\"number\", \"TOTAL_STATE_FEE\"], [\"number\", \"TOTAL_MUNI_TAX\"], [\"number\", \"TOTAL_STATE/MUNI\"]],\n        columnOptions: [{\"width\": \"1px\", \"className\": \"index_column\"}],\n        rowsPerPage: 25,\n        helpUrl: \"https://colab.research.google.com/notebooks/data_table.ipynb\",\n        suppressOutputScrolling: true,\n        minimumWidth: undefined,\n      });\n\n      function appendQuickchartButton(parentElement) {\n        let quickchartButtonContainerElement = document.createElement('div');\n        quickchartButtonContainerElement.innerHTML = `\n<div id=\"df-4f3e54de-3f26-4b9c-a3b0-67c4578c0b13\">\n  <button class=\"colab-df-quickchart\" onclick=\"quickchart('df-4f3e54de-3f26-4b9c-a3b0-67c4578c0b13')\"\n            title=\"Suggest charts.\"\n            style=\"display:none;\">\n    \n<svg xmlns=\"http://www.w3.org/2000/svg\" height=\"24px\"viewBox=\"0 0 24 24\"\n     width=\"24px\">\n    <g>\n        <path d=\"M19 3H5c-1.1 0-2 .9-2 2v14c0 1.1.9 2 2 2h14c1.1 0 2-.9 2-2V5c0-1.1-.9-2-2-2zM9 17H7v-7h2v7zm4 0h-2V7h2v10zm4 0h-2v-4h2v4z\"/>\n    </g>\n</svg>\n  </button>\n  \n<style>\n  .colab-df-quickchart {\n      --bg-color: #E8F0FE;\n      --fill-color: #1967D2;\n      --hover-bg-color: #E2EBFA;\n      --hover-fill-color: #174EA6;\n      --disabled-fill-color: #AAA;\n      --disabled-bg-color: #DDD;\n  }\n\n  [theme=dark] .colab-df-quickchart {\n      --bg-color: #3B4455;\n      --fill-color: #D2E3FC;\n      --hover-bg-color: #434B5C;\n      --hover-fill-color: #FFFFFF;\n      --disabled-bg-color: #3B4455;\n      --disabled-fill-color: #666;\n  }\n\n  .colab-df-quickchart {\n    background-color: var(--bg-color);\n    border: none;\n    border-radius: 50%;\n    cursor: pointer;\n    display: none;\n    fill: var(--fill-color);\n    height: 32px;\n    padding: 0;\n    width: 32px;\n  }\n\n  .colab-df-quickchart:hover {\n    background-color: var(--hover-bg-color);\n    box-shadow: 0 1px 2px rgba(60, 64, 67, 0.3), 0 1px 3px 1px rgba(60, 64, 67, 0.15);\n    fill: var(--button-hover-fill-color);\n  }\n\n  .colab-df-quickchart-complete:disabled,\n  .colab-df-quickchart-complete:disabled:hover {\n    background-color: var(--disabled-bg-color);\n    fill: var(--disabled-fill-color);\n    box-shadow: none;\n  }\n\n  .colab-df-spinner {\n    border: 2px solid var(--fill-color);\n    border-color: transparent;\n    border-bottom-color: var(--fill-color);\n    animation:\n      spin 1s steps(1) infinite;\n  }\n\n  @keyframes spin {\n    0% {\n      border-color: transparent;\n      border-bottom-color: var(--fill-color);\n      border-left-color: var(--fill-color);\n    }\n    20% {\n      border-color: transparent;\n      border-left-color: var(--fill-color);\n      border-top-color: var(--fill-color);\n    }\n    30% {\n      border-color: transparent;\n      border-left-color: var(--fill-color);\n      border-top-color: var(--fill-color);\n      border-right-color: var(--fill-color);\n    }\n    40% {\n      border-color: transparent;\n      border-right-color: var(--fill-color);\n      border-top-color: var(--fill-color);\n    }\n    60% {\n      border-color: transparent;\n      border-right-color: var(--fill-color);\n    }\n    80% {\n      border-color: transparent;\n      border-right-color: var(--fill-color);\n      border-bottom-color: var(--fill-color);\n    }\n    90% {\n      border-color: transparent;\n      border-bottom-color: var(--fill-color);\n    }\n  }\n</style>\n\n  <script>\n    async function quickchart(key) {\n      const quickchartButtonEl =\n        document.querySelector('#' + key + ' button');\n      quickchartButtonEl.disabled = true;  // To prevent multiple clicks.\n      quickchartButtonEl.classList.add('colab-df-spinner');\n      try {\n        const charts = await google.colab.kernel.invokeFunction(\n            'suggestCharts', [key], {});\n      } catch (error) {\n        console.error('Error during call to suggestCharts:', error);\n      }\n      quickchartButtonEl.classList.remove('colab-df-spinner');\n      quickchartButtonEl.classList.add('colab-df-quickchart-complete');\n    }\n    (() => {\n      let quickchartButtonEl =\n        document.querySelector('#df-4f3e54de-3f26-4b9c-a3b0-67c4578c0b13 button');\n      quickchartButtonEl.style.display =\n        google.colab.kernel.accessAllowed ? 'block' : 'none';\n    })();\n  </script>\n</div>`;\n        parentElement.appendChild(quickchartButtonContainerElement);\n      }\n\n      appendQuickchartButton(table);\n    "
          },
          "metadata": {},
          "execution_count": 22
        }
      ]
    },
    {
      "cell_type": "code",
      "source": [
        "njc01=njc[['COUNTY ']]\n",
        "njc01.rename(columns={'COUNTY': 'COUNTY'}, inplace=True)\n",
        "njc01.head(2)"
      ],
      "metadata": {
        "id": "8awLIHbxvKVI",
        "colab": {
          "base_uri": "https://localhost:8080/",
          "height": 355
        },
        "outputId": "45414f66-3fed-4f1a-d542-c388f5a48205"
      },
      "execution_count": 23,
      "outputs": [
        {
          "output_type": "error",
          "ename": "KeyError",
          "evalue": "ignored",
          "traceback": [
            "\u001b[0;31m---------------------------------------------------------------------------\u001b[0m",
            "\u001b[0;31mKeyError\u001b[0m                                  Traceback (most recent call last)",
            "\u001b[0;32m<ipython-input-23-34ba574d3561>\u001b[0m in \u001b[0;36m<cell line: 1>\u001b[0;34m()\u001b[0m\n\u001b[0;32m----> 1\u001b[0;31m \u001b[0mnjc01\u001b[0m\u001b[0;34m=\u001b[0m\u001b[0mnjc\u001b[0m\u001b[0;34m[\u001b[0m\u001b[0;34m[\u001b[0m\u001b[0;34m'COUNTY '\u001b[0m\u001b[0;34m]\u001b[0m\u001b[0;34m]\u001b[0m\u001b[0;34m\u001b[0m\u001b[0;34m\u001b[0m\u001b[0m\n\u001b[0m\u001b[1;32m      2\u001b[0m \u001b[0mnjc01\u001b[0m\u001b[0;34m.\u001b[0m\u001b[0mrename\u001b[0m\u001b[0;34m(\u001b[0m\u001b[0mcolumns\u001b[0m\u001b[0;34m=\u001b[0m\u001b[0;34m{\u001b[0m\u001b[0;34m'COUNTY'\u001b[0m\u001b[0;34m:\u001b[0m \u001b[0;34m'COUNTY'\u001b[0m\u001b[0;34m}\u001b[0m\u001b[0;34m,\u001b[0m \u001b[0minplace\u001b[0m\u001b[0;34m=\u001b[0m\u001b[0;32mTrue\u001b[0m\u001b[0;34m)\u001b[0m\u001b[0;34m\u001b[0m\u001b[0;34m\u001b[0m\u001b[0m\n\u001b[1;32m      3\u001b[0m \u001b[0mnjc01\u001b[0m\u001b[0;34m.\u001b[0m\u001b[0mhead\u001b[0m\u001b[0;34m(\u001b[0m\u001b[0;36m2\u001b[0m\u001b[0;34m)\u001b[0m\u001b[0;34m\u001b[0m\u001b[0;34m\u001b[0m\u001b[0m\n",
            "\u001b[0;32m/usr/local/lib/python3.10/dist-packages/geopandas/geodataframe.py\u001b[0m in \u001b[0;36m__getitem__\u001b[0;34m(self, key)\u001b[0m\n\u001b[1;32m   1473\u001b[0m         \u001b[0;32mreturn\u001b[0m \u001b[0ma\u001b[0m \u001b[0mGeoDataFrame\u001b[0m\u001b[0;34m.\u001b[0m\u001b[0;34m\u001b[0m\u001b[0;34m\u001b[0m\u001b[0m\n\u001b[1;32m   1474\u001b[0m         \"\"\"\n\u001b[0;32m-> 1475\u001b[0;31m         \u001b[0mresult\u001b[0m \u001b[0;34m=\u001b[0m \u001b[0msuper\u001b[0m\u001b[0;34m(\u001b[0m\u001b[0;34m)\u001b[0m\u001b[0;34m.\u001b[0m\u001b[0m__getitem__\u001b[0m\u001b[0;34m(\u001b[0m\u001b[0mkey\u001b[0m\u001b[0;34m)\u001b[0m\u001b[0;34m\u001b[0m\u001b[0;34m\u001b[0m\u001b[0m\n\u001b[0m\u001b[1;32m   1476\u001b[0m         \u001b[0;31m# Custom logic to avoid waiting for pandas GH51895\u001b[0m\u001b[0;34m\u001b[0m\u001b[0;34m\u001b[0m\u001b[0m\n\u001b[1;32m   1477\u001b[0m         \u001b[0;31m# result is not geometry dtype for multi-indexes\u001b[0m\u001b[0;34m\u001b[0m\u001b[0;34m\u001b[0m\u001b[0m\n",
            "\u001b[0;32m/usr/local/lib/python3.10/dist-packages/pandas/core/frame.py\u001b[0m in \u001b[0;36m__getitem__\u001b[0;34m(self, key)\u001b[0m\n\u001b[1;32m   3811\u001b[0m             \u001b[0;32mif\u001b[0m \u001b[0mis_iterator\u001b[0m\u001b[0;34m(\u001b[0m\u001b[0mkey\u001b[0m\u001b[0;34m)\u001b[0m\u001b[0;34m:\u001b[0m\u001b[0;34m\u001b[0m\u001b[0;34m\u001b[0m\u001b[0m\n\u001b[1;32m   3812\u001b[0m                 \u001b[0mkey\u001b[0m \u001b[0;34m=\u001b[0m \u001b[0mlist\u001b[0m\u001b[0;34m(\u001b[0m\u001b[0mkey\u001b[0m\u001b[0;34m)\u001b[0m\u001b[0;34m\u001b[0m\u001b[0;34m\u001b[0m\u001b[0m\n\u001b[0;32m-> 3813\u001b[0;31m             \u001b[0mindexer\u001b[0m \u001b[0;34m=\u001b[0m \u001b[0mself\u001b[0m\u001b[0;34m.\u001b[0m\u001b[0mcolumns\u001b[0m\u001b[0;34m.\u001b[0m\u001b[0m_get_indexer_strict\u001b[0m\u001b[0;34m(\u001b[0m\u001b[0mkey\u001b[0m\u001b[0;34m,\u001b[0m \u001b[0;34m\"columns\"\u001b[0m\u001b[0;34m)\u001b[0m\u001b[0;34m[\u001b[0m\u001b[0;36m1\u001b[0m\u001b[0;34m]\u001b[0m\u001b[0;34m\u001b[0m\u001b[0;34m\u001b[0m\u001b[0m\n\u001b[0m\u001b[1;32m   3814\u001b[0m \u001b[0;34m\u001b[0m\u001b[0m\n\u001b[1;32m   3815\u001b[0m         \u001b[0;31m# take() does not accept boolean indexers\u001b[0m\u001b[0;34m\u001b[0m\u001b[0;34m\u001b[0m\u001b[0m\n",
            "\u001b[0;32m/usr/local/lib/python3.10/dist-packages/pandas/core/indexes/base.py\u001b[0m in \u001b[0;36m_get_indexer_strict\u001b[0;34m(self, key, axis_name)\u001b[0m\n\u001b[1;32m   6068\u001b[0m             \u001b[0mkeyarr\u001b[0m\u001b[0;34m,\u001b[0m \u001b[0mindexer\u001b[0m\u001b[0;34m,\u001b[0m \u001b[0mnew_indexer\u001b[0m \u001b[0;34m=\u001b[0m \u001b[0mself\u001b[0m\u001b[0;34m.\u001b[0m\u001b[0m_reindex_non_unique\u001b[0m\u001b[0;34m(\u001b[0m\u001b[0mkeyarr\u001b[0m\u001b[0;34m)\u001b[0m\u001b[0;34m\u001b[0m\u001b[0;34m\u001b[0m\u001b[0m\n\u001b[1;32m   6069\u001b[0m \u001b[0;34m\u001b[0m\u001b[0m\n\u001b[0;32m-> 6070\u001b[0;31m         \u001b[0mself\u001b[0m\u001b[0;34m.\u001b[0m\u001b[0m_raise_if_missing\u001b[0m\u001b[0;34m(\u001b[0m\u001b[0mkeyarr\u001b[0m\u001b[0;34m,\u001b[0m \u001b[0mindexer\u001b[0m\u001b[0;34m,\u001b[0m \u001b[0maxis_name\u001b[0m\u001b[0;34m)\u001b[0m\u001b[0;34m\u001b[0m\u001b[0;34m\u001b[0m\u001b[0m\n\u001b[0m\u001b[1;32m   6071\u001b[0m \u001b[0;34m\u001b[0m\u001b[0m\n\u001b[1;32m   6072\u001b[0m         \u001b[0mkeyarr\u001b[0m \u001b[0;34m=\u001b[0m \u001b[0mself\u001b[0m\u001b[0;34m.\u001b[0m\u001b[0mtake\u001b[0m\u001b[0;34m(\u001b[0m\u001b[0mindexer\u001b[0m\u001b[0;34m)\u001b[0m\u001b[0;34m\u001b[0m\u001b[0;34m\u001b[0m\u001b[0m\n",
            "\u001b[0;32m/usr/local/lib/python3.10/dist-packages/pandas/core/indexes/base.py\u001b[0m in \u001b[0;36m_raise_if_missing\u001b[0;34m(self, key, indexer, axis_name)\u001b[0m\n\u001b[1;32m   6128\u001b[0m                 \u001b[0;32mif\u001b[0m \u001b[0muse_interval_msg\u001b[0m\u001b[0;34m:\u001b[0m\u001b[0;34m\u001b[0m\u001b[0;34m\u001b[0m\u001b[0m\n\u001b[1;32m   6129\u001b[0m                     \u001b[0mkey\u001b[0m \u001b[0;34m=\u001b[0m \u001b[0mlist\u001b[0m\u001b[0;34m(\u001b[0m\u001b[0mkey\u001b[0m\u001b[0;34m)\u001b[0m\u001b[0;34m\u001b[0m\u001b[0;34m\u001b[0m\u001b[0m\n\u001b[0;32m-> 6130\u001b[0;31m                 \u001b[0;32mraise\u001b[0m \u001b[0mKeyError\u001b[0m\u001b[0;34m(\u001b[0m\u001b[0;34mf\"None of [{key}] are in the [{axis_name}]\"\u001b[0m\u001b[0;34m)\u001b[0m\u001b[0;34m\u001b[0m\u001b[0;34m\u001b[0m\u001b[0m\n\u001b[0m\u001b[1;32m   6131\u001b[0m \u001b[0;34m\u001b[0m\u001b[0m\n\u001b[1;32m   6132\u001b[0m             \u001b[0mnot_found\u001b[0m \u001b[0;34m=\u001b[0m \u001b[0mlist\u001b[0m\u001b[0;34m(\u001b[0m\u001b[0mensure_index\u001b[0m\u001b[0;34m(\u001b[0m\u001b[0mkey\u001b[0m\u001b[0;34m)\u001b[0m\u001b[0;34m[\u001b[0m\u001b[0mmissing_mask\u001b[0m\u001b[0;34m.\u001b[0m\u001b[0mnonzero\u001b[0m\u001b[0;34m(\u001b[0m\u001b[0;34m)\u001b[0m\u001b[0;34m[\u001b[0m\u001b[0;36m0\u001b[0m\u001b[0;34m]\u001b[0m\u001b[0;34m]\u001b[0m\u001b[0;34m.\u001b[0m\u001b[0munique\u001b[0m\u001b[0;34m(\u001b[0m\u001b[0;34m)\u001b[0m\u001b[0;34m)\u001b[0m\u001b[0;34m\u001b[0m\u001b[0;34m\u001b[0m\u001b[0m\n",
            "\u001b[0;31mKeyError\u001b[0m: \"None of [Index(['COUNTY '], dtype='object')] are in the [columns]\""
          ]
        }
      ]
    },
    {
      "cell_type": "code",
      "source": [
        "njc.head(2)\n",
        "new_df.head(2)"
      ],
      "metadata": {
        "id": "Mty0TgTSllHp"
      },
      "execution_count": null,
      "outputs": []
    },
    {
      "cell_type": "code",
      "source": [],
      "metadata": {
        "id": "NBzjRGYirwYL"
      },
      "execution_count": null,
      "outputs": []
    },
    {
      "cell_type": "code",
      "source": [
        "#njc1 = pd.merge(njc, new_df, on='COUNTY',how='outer',indicator=True) #(make sure to have njC shapefile from previous sec)\n",
        "#njc1[['COUNTY','POPDEN2010','TOTAL_STATE/MUNI','_merge']] #all good, NEW JERSEY expected not to merge\n",
        "\n",
        "#njc2 = pd.merge(njc,new_df, on='COUNTY',how='inner',indicator=False) #so do 'inner' that will only keep the exact matches\n"
      ],
      "metadata": {
        "id": "26YVvY8-UoBC"
      },
      "execution_count": null,
      "outputs": []
    },
    {
      "cell_type": "code",
      "source": [
        "neew_df=pd.read_excel('https://github.com/Athang9/GIS/raw/main/TotalCrimeCounty.xlsx')\n",
        "neew_df.head()"
      ],
      "metadata": {
        "id": "9hviBmsiwqV3"
      },
      "execution_count": null,
      "outputs": []
    },
    {
      "cell_type": "code",
      "source": [
        "#njc1 = pd.merge(njc, new_df, on='COUNTY',how='outer',indicator=True) #(make sure to have njC shapefile from previous sec)\n",
        "#njc3[['COUNTY','TOTAL_CRIME','_merge']] #all good, NEW JERSEY expected not to merge\n",
        "\n",
        "#njc4 = pd.merge(njc,neew_df, on='COUNTY',how='inner',indicator=False) #so do 'inner' that will only keep the exact matches"
      ],
      "metadata": {
        "id": "9jwUmdXrxeB4"
      },
      "execution_count": null,
      "outputs": []
    },
    {
      "cell_type": "code",
      "source": [
        "#njc1 = pd.merge(njc, new_df, on='COUNTY',how='outer',indicator=True) #(make sure to have njC shapefile from previous sec)\n",
        "#njc3[['COUNTY','TOTAL_CRIME','_merge']] #all good, NEW JERSEY expected not to merge\n",
        "\n",
        "#njc4 = pd.merge(njc,neew_df, on='COUNTY',how='inner',indicator=False) #so do 'inner' that will only keep the exact matches"
      ],
      "metadata": {
        "id": "DfRFRi5YzSqU"
      },
      "execution_count": null,
      "outputs": []
    },
    {
      "cell_type": "code",
      "source": [
        "#fig, ax = plt.subplots(1, figsize=(6,10))\n",
        "#njc2.plot(ax=ax,column='',legend=True,cmap='RdYlGn_r',\n",
        "#          scheme='natural_breaks',k=5, edgecolor='grey',linewidth=2,\n",
        "#          legend_kwds= {\"fmt\": \"{:,.0f}\",'loc':'lower right','markerscale':1.4})\n",
        "##leg1 = ax.get_legend()\n",
        "##leg1.set_title('''Population Density\n",
        "##2010 (pers/sq mi)''')\n",
        "#ax.title.set_text(\"Zillow Home Value Index\")\n",
        "#ax.set_xticks([]) #kills xticks\n",
        "#ax.set_yticks([]) #kills xticks\n",
        "#ax.set_xlabel('''source/definition: zillow.com/research/data''')\n",
        "##plt.savefig('fig.pdf',bbox_inches='tight') #,pad_inches=0.1, dpi=200, transparent=True #eps, jpeg, jpg, pdf, pgf, png, ps, raw, rgba, svg, svgz, tif, tiff\n",
        "##files.download('fig.pdf') #note can also right click fig and save image as"
      ],
      "metadata": {
        "id": "5P6YXStkln54"
      },
      "execution_count": null,
      "outputs": []
    },
    {
      "cell_type": "code",
      "source": [
        "neew_df\n",
        "replacement_mapping = {'Atlantic County': 'ATLANTIC', 'Bergen County': 'BERGEN','Burlington County':'BURLINGTON','Camden County':'CAMDEN','\tCape May County':'CAPE MAY','Cumberland County':'CUMBERLAND','Essex County':'ESSEX','Gloucester County':'GLOUCESTER','Hudson County':'HUDSON','Hunterdon County':'HUNTERDON','Mercer County':'MERCER','Middlesex County':'MIDDLESEX','Monmouth County':'MONMOUTH','Morris County':'MORRIS','Ocean County':'OCEAN','Passaic County':'PASSAIC','Salem County':'SALEM','Somerset County':'SOMERSET','Sussex County':'SUSSEX','Union County':'UNION','Warren County':'WARREN'}\n",
        "neew_df['COUNTY'] = neew_df['COUNTY'].replace(replacement_mapping)\n",
        "#print(df)"
      ],
      "metadata": {
        "id": "UrXVDq5Dwofb"
      },
      "execution_count": null,
      "outputs": []
    },
    {
      "cell_type": "code",
      "source": [],
      "metadata": {
        "id": "4JNrFH08xBz_"
      },
      "execution_count": null,
      "outputs": []
    }
  ]
}